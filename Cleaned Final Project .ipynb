{
 "cells": [
  {
   "cell_type": "markdown",
   "metadata": {},
   "source": [
    "# Predicting Chocolate Ratings"
   ]
  },
  {
   "cell_type": "markdown",
   "metadata": {},
   "source": [
    "## 2) Provide a link to your data\n",
    "Your data is required to be free and open to anyone.\n",
    "As such, you should have a URL which anyone can use to download your data:"
   ]
  },
  {
   "cell_type": "markdown",
   "metadata": {},
   "source": [
    "Link to Data\n",
    "- From Kaggle\n",
    "\n",
    "    https://www.kaggle.com/rtatman/chocolate-bar-ratings"
   ]
  },
  {
   "cell_type": "markdown",
   "metadata": {},
   "source": [
    "## 3) Import your data\n",
    "In the space below, import your data.\n",
    "If your data span multiple files, read them all in.\n",
    "If applicable, merge or append them as needed."
   ]
  },
  {
   "cell_type": "code",
   "execution_count": 1,
   "metadata": {},
   "outputs": [],
   "source": [
    "import pandas as pd\n",
    "import numpy as np\n",
    "from pandas import read_csv"
   ]
  },
  {
   "cell_type": "code",
   "execution_count": 2,
   "metadata": {},
   "outputs": [],
   "source": [
    "Chocolate_df= pd.read_csv('flavors_of_cacao.csv', header=0)"
   ]
  },
  {
   "cell_type": "markdown",
   "metadata": {},
   "source": [
    "## 4) Show me the head of your data."
   ]
  },
  {
   "cell_type": "code",
   "execution_count": 3,
   "metadata": {},
   "outputs": [
    {
     "data": {
      "text/html": [
       "<div>\n",
       "<style scoped>\n",
       "    .dataframe tbody tr th:only-of-type {\n",
       "        vertical-align: middle;\n",
       "    }\n",
       "\n",
       "    .dataframe tbody tr th {\n",
       "        vertical-align: top;\n",
       "    }\n",
       "\n",
       "    .dataframe thead th {\n",
       "        text-align: right;\n",
       "    }\n",
       "</style>\n",
       "<table border=\"1\" class=\"dataframe\">\n",
       "  <thead>\n",
       "    <tr style=\"text-align: right;\">\n",
       "      <th></th>\n",
       "      <th>Company \n",
       "(Maker-if known)</th>\n",
       "      <th>Specific Bean Origin\n",
       "or Bar Name</th>\n",
       "      <th>REF</th>\n",
       "      <th>Review\n",
       "Date</th>\n",
       "      <th>Cocoa\n",
       "Percent</th>\n",
       "      <th>Company\n",
       "Location</th>\n",
       "      <th>Rating</th>\n",
       "      <th>Bean\n",
       "Type</th>\n",
       "      <th>Broad Bean\n",
       "Origin</th>\n",
       "    </tr>\n",
       "  </thead>\n",
       "  <tbody>\n",
       "    <tr>\n",
       "      <th>0</th>\n",
       "      <td>A. Morin</td>\n",
       "      <td>Agua Grande</td>\n",
       "      <td>1876</td>\n",
       "      <td>2016</td>\n",
       "      <td>63%</td>\n",
       "      <td>France</td>\n",
       "      <td>3.75</td>\n",
       "      <td></td>\n",
       "      <td>Sao Tome</td>\n",
       "    </tr>\n",
       "    <tr>\n",
       "      <th>1</th>\n",
       "      <td>A. Morin</td>\n",
       "      <td>Kpime</td>\n",
       "      <td>1676</td>\n",
       "      <td>2015</td>\n",
       "      <td>70%</td>\n",
       "      <td>France</td>\n",
       "      <td>2.75</td>\n",
       "      <td></td>\n",
       "      <td>Togo</td>\n",
       "    </tr>\n",
       "    <tr>\n",
       "      <th>2</th>\n",
       "      <td>A. Morin</td>\n",
       "      <td>Atsane</td>\n",
       "      <td>1676</td>\n",
       "      <td>2015</td>\n",
       "      <td>70%</td>\n",
       "      <td>France</td>\n",
       "      <td>3.00</td>\n",
       "      <td></td>\n",
       "      <td>Togo</td>\n",
       "    </tr>\n",
       "    <tr>\n",
       "      <th>3</th>\n",
       "      <td>A. Morin</td>\n",
       "      <td>Akata</td>\n",
       "      <td>1680</td>\n",
       "      <td>2015</td>\n",
       "      <td>70%</td>\n",
       "      <td>France</td>\n",
       "      <td>3.50</td>\n",
       "      <td></td>\n",
       "      <td>Togo</td>\n",
       "    </tr>\n",
       "    <tr>\n",
       "      <th>4</th>\n",
       "      <td>A. Morin</td>\n",
       "      <td>Quilla</td>\n",
       "      <td>1704</td>\n",
       "      <td>2015</td>\n",
       "      <td>70%</td>\n",
       "      <td>France</td>\n",
       "      <td>3.50</td>\n",
       "      <td></td>\n",
       "      <td>Peru</td>\n",
       "    </tr>\n",
       "    <tr>\n",
       "      <th>5</th>\n",
       "      <td>A. Morin</td>\n",
       "      <td>Carenero</td>\n",
       "      <td>1315</td>\n",
       "      <td>2014</td>\n",
       "      <td>70%</td>\n",
       "      <td>France</td>\n",
       "      <td>2.75</td>\n",
       "      <td>Criollo</td>\n",
       "      <td>Venezuela</td>\n",
       "    </tr>\n",
       "    <tr>\n",
       "      <th>6</th>\n",
       "      <td>A. Morin</td>\n",
       "      <td>Cuba</td>\n",
       "      <td>1315</td>\n",
       "      <td>2014</td>\n",
       "      <td>70%</td>\n",
       "      <td>France</td>\n",
       "      <td>3.50</td>\n",
       "      <td></td>\n",
       "      <td>Cuba</td>\n",
       "    </tr>\n",
       "    <tr>\n",
       "      <th>7</th>\n",
       "      <td>A. Morin</td>\n",
       "      <td>Sur del Lago</td>\n",
       "      <td>1315</td>\n",
       "      <td>2014</td>\n",
       "      <td>70%</td>\n",
       "      <td>France</td>\n",
       "      <td>3.50</td>\n",
       "      <td>Criollo</td>\n",
       "      <td>Venezuela</td>\n",
       "    </tr>\n",
       "    <tr>\n",
       "      <th>8</th>\n",
       "      <td>A. Morin</td>\n",
       "      <td>Puerto Cabello</td>\n",
       "      <td>1319</td>\n",
       "      <td>2014</td>\n",
       "      <td>70%</td>\n",
       "      <td>France</td>\n",
       "      <td>3.75</td>\n",
       "      <td>Criollo</td>\n",
       "      <td>Venezuela</td>\n",
       "    </tr>\n",
       "    <tr>\n",
       "      <th>9</th>\n",
       "      <td>A. Morin</td>\n",
       "      <td>Pablino</td>\n",
       "      <td>1319</td>\n",
       "      <td>2014</td>\n",
       "      <td>70%</td>\n",
       "      <td>France</td>\n",
       "      <td>4.00</td>\n",
       "      <td></td>\n",
       "      <td>Peru</td>\n",
       "    </tr>\n",
       "  </tbody>\n",
       "</table>\n",
       "</div>"
      ],
      "text/plain": [
       "  Company \\n(Maker-if known) Specific Bean Origin\\nor Bar Name   REF  \\\n",
       "0                   A. Morin                       Agua Grande  1876   \n",
       "1                   A. Morin                             Kpime  1676   \n",
       "2                   A. Morin                            Atsane  1676   \n",
       "3                   A. Morin                             Akata  1680   \n",
       "4                   A. Morin                            Quilla  1704   \n",
       "5                   A. Morin                          Carenero  1315   \n",
       "6                   A. Morin                              Cuba  1315   \n",
       "7                   A. Morin                      Sur del Lago  1315   \n",
       "8                   A. Morin                    Puerto Cabello  1319   \n",
       "9                   A. Morin                           Pablino  1319   \n",
       "\n",
       "   Review\\nDate Cocoa\\nPercent Company\\nLocation  Rating Bean\\nType  \\\n",
       "0          2016            63%            France    3.75              \n",
       "1          2015            70%            France    2.75              \n",
       "2          2015            70%            France    3.00              \n",
       "3          2015            70%            France    3.50              \n",
       "4          2015            70%            France    3.50              \n",
       "5          2014            70%            France    2.75    Criollo   \n",
       "6          2014            70%            France    3.50              \n",
       "7          2014            70%            France    3.50    Criollo   \n",
       "8          2014            70%            France    3.75    Criollo   \n",
       "9          2014            70%            France    4.00              \n",
       "\n",
       "  Broad Bean\\nOrigin  \n",
       "0           Sao Tome  \n",
       "1               Togo  \n",
       "2               Togo  \n",
       "3               Togo  \n",
       "4               Peru  \n",
       "5          Venezuela  \n",
       "6               Cuba  \n",
       "7          Venezuela  \n",
       "8          Venezuela  \n",
       "9               Peru  "
      ]
     },
     "execution_count": 3,
     "metadata": {},
     "output_type": "execute_result"
    }
   ],
   "source": [
    "#First ten rows of the dataset\n",
    "Chocolate_df.head(10)"
   ]
  },
  {
   "cell_type": "markdown",
   "metadata": {},
   "source": [
    "## 6) Show me the proportion of missing observations for each column of your data"
   ]
  },
  {
   "cell_type": "code",
   "execution_count": 4,
   "metadata": {},
   "outputs": [
    {
     "data": {
      "text/html": [
       "<div>\n",
       "<style scoped>\n",
       "    .dataframe tbody tr th:only-of-type {\n",
       "        vertical-align: middle;\n",
       "    }\n",
       "\n",
       "    .dataframe tbody tr th {\n",
       "        vertical-align: top;\n",
       "    }\n",
       "\n",
       "    .dataframe thead th {\n",
       "        text-align: right;\n",
       "    }\n",
       "</style>\n",
       "<table border=\"1\" class=\"dataframe\">\n",
       "  <thead>\n",
       "    <tr style=\"text-align: right;\">\n",
       "      <th></th>\n",
       "      <th>Company \n",
       "(Maker-if known)</th>\n",
       "      <th>Specific Bean Origin\n",
       "or Bar Name</th>\n",
       "      <th>REF</th>\n",
       "      <th>Review\n",
       "Date</th>\n",
       "      <th>Cocoa\n",
       "Percent</th>\n",
       "      <th>Company\n",
       "Location</th>\n",
       "      <th>Rating</th>\n",
       "      <th>Bean\n",
       "Type</th>\n",
       "      <th>Broad Bean\n",
       "Origin</th>\n",
       "    </tr>\n",
       "  </thead>\n",
       "  <tbody>\n",
       "    <tr>\n",
       "      <th>0</th>\n",
       "      <td>False</td>\n",
       "      <td>False</td>\n",
       "      <td>False</td>\n",
       "      <td>False</td>\n",
       "      <td>False</td>\n",
       "      <td>False</td>\n",
       "      <td>False</td>\n",
       "      <td>False</td>\n",
       "      <td>False</td>\n",
       "    </tr>\n",
       "    <tr>\n",
       "      <th>1</th>\n",
       "      <td>False</td>\n",
       "      <td>False</td>\n",
       "      <td>False</td>\n",
       "      <td>False</td>\n",
       "      <td>False</td>\n",
       "      <td>False</td>\n",
       "      <td>False</td>\n",
       "      <td>False</td>\n",
       "      <td>False</td>\n",
       "    </tr>\n",
       "    <tr>\n",
       "      <th>2</th>\n",
       "      <td>False</td>\n",
       "      <td>False</td>\n",
       "      <td>False</td>\n",
       "      <td>False</td>\n",
       "      <td>False</td>\n",
       "      <td>False</td>\n",
       "      <td>False</td>\n",
       "      <td>False</td>\n",
       "      <td>False</td>\n",
       "    </tr>\n",
       "    <tr>\n",
       "      <th>3</th>\n",
       "      <td>False</td>\n",
       "      <td>False</td>\n",
       "      <td>False</td>\n",
       "      <td>False</td>\n",
       "      <td>False</td>\n",
       "      <td>False</td>\n",
       "      <td>False</td>\n",
       "      <td>False</td>\n",
       "      <td>False</td>\n",
       "    </tr>\n",
       "    <tr>\n",
       "      <th>4</th>\n",
       "      <td>False</td>\n",
       "      <td>False</td>\n",
       "      <td>False</td>\n",
       "      <td>False</td>\n",
       "      <td>False</td>\n",
       "      <td>False</td>\n",
       "      <td>False</td>\n",
       "      <td>False</td>\n",
       "      <td>False</td>\n",
       "    </tr>\n",
       "  </tbody>\n",
       "</table>\n",
       "</div>"
      ],
      "text/plain": [
       "   Company \\n(Maker-if known)  Specific Bean Origin\\nor Bar Name    REF  \\\n",
       "0                       False                              False  False   \n",
       "1                       False                              False  False   \n",
       "2                       False                              False  False   \n",
       "3                       False                              False  False   \n",
       "4                       False                              False  False   \n",
       "\n",
       "   Review\\nDate  Cocoa\\nPercent  Company\\nLocation  Rating  Bean\\nType  \\\n",
       "0         False           False              False   False       False   \n",
       "1         False           False              False   False       False   \n",
       "2         False           False              False   False       False   \n",
       "3         False           False              False   False       False   \n",
       "4         False           False              False   False       False   \n",
       "\n",
       "   Broad Bean\\nOrigin  \n",
       "0               False  \n",
       "1               False  \n",
       "2               False  \n",
       "3               False  \n",
       "4               False  "
      ]
     },
     "execution_count": 4,
     "metadata": {},
     "output_type": "execute_result"
    }
   ],
   "source": [
    "Chocolate_df.isna().head()"
   ]
  },
  {
   "cell_type": "code",
   "execution_count": 5,
   "metadata": {},
   "outputs": [
    {
     "data": {
      "text/plain": [
       "Company \\n(Maker-if known)           0\n",
       "Specific Bean Origin\\nor Bar Name    0\n",
       "REF                                  0\n",
       "Review\\nDate                         0\n",
       "Cocoa\\nPercent                       0\n",
       "Company\\nLocation                    0\n",
       "Rating                               0\n",
       "Bean\\nType                           1\n",
       "Broad Bean\\nOrigin                   1\n",
       "dtype: int64"
      ]
     },
     "execution_count": 5,
     "metadata": {},
     "output_type": "execute_result"
    }
   ],
   "source": [
    "#total NA values in each column\n",
    "Chocolate_df.isna().sum()"
   ]
  },
  {
   "cell_type": "code",
   "execution_count": 6,
   "metadata": {},
   "outputs": [
    {
     "data": {
      "text/plain": [
       "(array([1072, 1544]), array([8, 7]))"
      ]
     },
     "execution_count": 6,
     "metadata": {},
     "output_type": "execute_result"
    }
   ],
   "source": [
    "#Where are the NA values\n",
    "np.where(pd.isnull(Chocolate_df))"
   ]
  },
  {
   "cell_type": "code",
   "execution_count": 7,
   "metadata": {},
   "outputs": [
    {
     "data": {
      "text/plain": [
       "Company \\n(Maker-if known)           Mast Brothers\n",
       "Specific Bean Origin\\nor Bar Name       Madagascar\n",
       "REF                                            999\n",
       "Review\\nDate                                  2012\n",
       "Cocoa\\nPercent                                 72%\n",
       "Company\\nLocation                           U.S.A.\n",
       "Rating                                         2.5\n",
       "Bean\\nType                              Trinitario\n",
       "Broad Bean\\nOrigin                             NaN\n",
       "Name: 1072, dtype: object"
      ]
     },
     "execution_count": 7,
     "metadata": {},
     "output_type": "execute_result"
    }
   ],
   "source": [
    "#Looking at missing values\n",
    "Chocolate_df.loc[1072,:]"
   ]
  },
  {
   "cell_type": "code",
   "execution_count": 8,
   "metadata": {},
   "outputs": [
    {
     "data": {
      "text/html": [
       "<div>\n",
       "<style scoped>\n",
       "    .dataframe tbody tr th:only-of-type {\n",
       "        vertical-align: middle;\n",
       "    }\n",
       "\n",
       "    .dataframe tbody tr th {\n",
       "        vertical-align: top;\n",
       "    }\n",
       "\n",
       "    .dataframe thead th {\n",
       "        text-align: right;\n",
       "    }\n",
       "</style>\n",
       "<table border=\"1\" class=\"dataframe\">\n",
       "  <thead>\n",
       "    <tr style=\"text-align: right;\">\n",
       "      <th></th>\n",
       "      <th>Company \n",
       "(Maker-if known)</th>\n",
       "      <th>Specific Bean Origin\n",
       "or Bar Name</th>\n",
       "      <th>REF</th>\n",
       "      <th>Review\n",
       "Date</th>\n",
       "      <th>Cocoa\n",
       "Percent</th>\n",
       "      <th>Company\n",
       "Location</th>\n",
       "      <th>Rating</th>\n",
       "      <th>Bean\n",
       "Type</th>\n",
       "      <th>Broad Bean\n",
       "Origin</th>\n",
       "    </tr>\n",
       "  </thead>\n",
       "  <tbody>\n",
       "    <tr>\n",
       "      <th>0</th>\n",
       "      <td>A. Morin</td>\n",
       "      <td>Agua Grande</td>\n",
       "      <td>1876</td>\n",
       "      <td>2016</td>\n",
       "      <td>63%</td>\n",
       "      <td>France</td>\n",
       "      <td>3.75</td>\n",
       "      <td></td>\n",
       "      <td>Sao Tome</td>\n",
       "    </tr>\n",
       "    <tr>\n",
       "      <th>1</th>\n",
       "      <td>A. Morin</td>\n",
       "      <td>Kpime</td>\n",
       "      <td>1676</td>\n",
       "      <td>2015</td>\n",
       "      <td>70%</td>\n",
       "      <td>France</td>\n",
       "      <td>2.75</td>\n",
       "      <td></td>\n",
       "      <td>Togo</td>\n",
       "    </tr>\n",
       "    <tr>\n",
       "      <th>2</th>\n",
       "      <td>A. Morin</td>\n",
       "      <td>Atsane</td>\n",
       "      <td>1676</td>\n",
       "      <td>2015</td>\n",
       "      <td>70%</td>\n",
       "      <td>France</td>\n",
       "      <td>3.00</td>\n",
       "      <td></td>\n",
       "      <td>Togo</td>\n",
       "    </tr>\n",
       "    <tr>\n",
       "      <th>3</th>\n",
       "      <td>A. Morin</td>\n",
       "      <td>Akata</td>\n",
       "      <td>1680</td>\n",
       "      <td>2015</td>\n",
       "      <td>70%</td>\n",
       "      <td>France</td>\n",
       "      <td>3.50</td>\n",
       "      <td></td>\n",
       "      <td>Togo</td>\n",
       "    </tr>\n",
       "    <tr>\n",
       "      <th>4</th>\n",
       "      <td>A. Morin</td>\n",
       "      <td>Quilla</td>\n",
       "      <td>1704</td>\n",
       "      <td>2015</td>\n",
       "      <td>70%</td>\n",
       "      <td>France</td>\n",
       "      <td>3.50</td>\n",
       "      <td></td>\n",
       "      <td>Peru</td>\n",
       "    </tr>\n",
       "    <tr>\n",
       "      <th>5</th>\n",
       "      <td>A. Morin</td>\n",
       "      <td>Carenero</td>\n",
       "      <td>1315</td>\n",
       "      <td>2014</td>\n",
       "      <td>70%</td>\n",
       "      <td>France</td>\n",
       "      <td>2.75</td>\n",
       "      <td>Criollo</td>\n",
       "      <td>Venezuela</td>\n",
       "    </tr>\n",
       "    <tr>\n",
       "      <th>6</th>\n",
       "      <td>A. Morin</td>\n",
       "      <td>Cuba</td>\n",
       "      <td>1315</td>\n",
       "      <td>2014</td>\n",
       "      <td>70%</td>\n",
       "      <td>France</td>\n",
       "      <td>3.50</td>\n",
       "      <td></td>\n",
       "      <td>Cuba</td>\n",
       "    </tr>\n",
       "    <tr>\n",
       "      <th>7</th>\n",
       "      <td>A. Morin</td>\n",
       "      <td>Sur del Lago</td>\n",
       "      <td>1315</td>\n",
       "      <td>2014</td>\n",
       "      <td>70%</td>\n",
       "      <td>France</td>\n",
       "      <td>3.50</td>\n",
       "      <td>Criollo</td>\n",
       "      <td>Venezuela</td>\n",
       "    </tr>\n",
       "    <tr>\n",
       "      <th>8</th>\n",
       "      <td>A. Morin</td>\n",
       "      <td>Puerto Cabello</td>\n",
       "      <td>1319</td>\n",
       "      <td>2014</td>\n",
       "      <td>70%</td>\n",
       "      <td>France</td>\n",
       "      <td>3.75</td>\n",
       "      <td>Criollo</td>\n",
       "      <td>Venezuela</td>\n",
       "    </tr>\n",
       "    <tr>\n",
       "      <th>9</th>\n",
       "      <td>A. Morin</td>\n",
       "      <td>Pablino</td>\n",
       "      <td>1319</td>\n",
       "      <td>2014</td>\n",
       "      <td>70%</td>\n",
       "      <td>France</td>\n",
       "      <td>4.00</td>\n",
       "      <td></td>\n",
       "      <td>Peru</td>\n",
       "    </tr>\n",
       "  </tbody>\n",
       "</table>\n",
       "</div>"
      ],
      "text/plain": [
       "  Company \\n(Maker-if known) Specific Bean Origin\\nor Bar Name   REF  \\\n",
       "0                   A. Morin                       Agua Grande  1876   \n",
       "1                   A. Morin                             Kpime  1676   \n",
       "2                   A. Morin                            Atsane  1676   \n",
       "3                   A. Morin                             Akata  1680   \n",
       "4                   A. Morin                            Quilla  1704   \n",
       "5                   A. Morin                          Carenero  1315   \n",
       "6                   A. Morin                              Cuba  1315   \n",
       "7                   A. Morin                      Sur del Lago  1315   \n",
       "8                   A. Morin                    Puerto Cabello  1319   \n",
       "9                   A. Morin                           Pablino  1319   \n",
       "\n",
       "   Review\\nDate Cocoa\\nPercent Company\\nLocation  Rating Bean\\nType  \\\n",
       "0          2016            63%            France    3.75              \n",
       "1          2015            70%            France    2.75              \n",
       "2          2015            70%            France    3.00              \n",
       "3          2015            70%            France    3.50              \n",
       "4          2015            70%            France    3.50              \n",
       "5          2014            70%            France    2.75    Criollo   \n",
       "6          2014            70%            France    3.50              \n",
       "7          2014            70%            France    3.50    Criollo   \n",
       "8          2014            70%            France    3.75    Criollo   \n",
       "9          2014            70%            France    4.00              \n",
       "\n",
       "  Broad Bean\\nOrigin  \n",
       "0           Sao Tome  \n",
       "1               Togo  \n",
       "2               Togo  \n",
       "3               Togo  \n",
       "4               Peru  \n",
       "5          Venezuela  \n",
       "6               Cuba  \n",
       "7          Venezuela  \n",
       "8          Venezuela  \n",
       "9               Peru  "
      ]
     },
     "execution_count": 8,
     "metadata": {},
     "output_type": "execute_result"
    }
   ],
   "source": [
    "# But if we look at the data\n",
    "Chocolate_df.head(10)"
   ]
  },
  {
   "cell_type": "code",
   "execution_count": 9,
   "metadata": {},
   "outputs": [],
   "source": [
    "# There are values that are blank which are not counted as NA\n",
    "#Replace blank cells with NA\n",
    "ChocolateNa_df = Chocolate_df.replace(r'^\\s+$', np.nan, regex=True)"
   ]
  },
  {
   "cell_type": "code",
   "execution_count": 10,
   "metadata": {},
   "outputs": [
    {
     "data": {
      "text/plain": [
       "Company \\n(Maker-if known)             0\n",
       "Specific Bean Origin\\nor Bar Name      0\n",
       "REF                                    0\n",
       "Review\\nDate                           0\n",
       "Cocoa\\nPercent                         0\n",
       "Company\\nLocation                      0\n",
       "Rating                                 0\n",
       "Bean\\nType                           888\n",
       "Broad Bean\\nOrigin                    74\n",
       "dtype: int64"
      ]
     },
     "execution_count": 10,
     "metadata": {},
     "output_type": "execute_result"
    }
   ],
   "source": [
    "#New total NA values in each column\n",
    "ChocolateNa_df.isna().sum()"
   ]
  },
  {
   "cell_type": "code",
   "execution_count": 11,
   "metadata": {},
   "outputs": [
    {
     "data": {
      "text/plain": [
       "(1795, 9)"
      ]
     },
     "execution_count": 11,
     "metadata": {},
     "output_type": "execute_result"
    }
   ],
   "source": [
    "#Shape showing total number of rows\n",
    "ChocolateNa_df.shape"
   ]
  },
  {
   "cell_type": "code",
   "execution_count": 12,
   "metadata": {},
   "outputs": [
    {
     "data": {
      "text/plain": [
       "Company \\n(Maker-if known)           1795\n",
       "Specific Bean Origin\\nor Bar Name    1795\n",
       "REF                                  1795\n",
       "Review\\nDate                         1795\n",
       "Cocoa\\nPercent                       1795\n",
       "Company\\nLocation                    1795\n",
       "Rating                               1795\n",
       "Bean\\nType                            907\n",
       "Broad Bean\\nOrigin                   1721\n",
       "dtype: int64"
      ]
     },
     "execution_count": 12,
     "metadata": {},
     "output_type": "execute_result"
    }
   ],
   "source": [
    "#Total number of values in each column that are not NA\n",
    "ChocolateNa_df.count()"
   ]
  },
  {
   "cell_type": "code",
   "execution_count": 13,
   "metadata": {},
   "outputs": [
    {
     "data": {
      "text/plain": [
       "Company \\n(Maker-if known)           0.000000\n",
       "Specific Bean Origin\\nor Bar Name    0.000000\n",
       "REF                                  0.000000\n",
       "Review\\nDate                         0.000000\n",
       "Cocoa\\nPercent                       0.000000\n",
       "Company\\nLocation                    0.000000\n",
       "Rating                               0.000000\n",
       "Bean\\nType                           0.494708\n",
       "Broad Bean\\nOrigin                   0.041226\n",
       "dtype: float64"
      ]
     },
     "execution_count": 13,
     "metadata": {},
     "output_type": "execute_result"
    }
   ],
   "source": [
    "#Proportion of missing values in each column \n",
    "Proportion = (ChocolateNa_df.isna().sum())/(ChocolateNa_df.count()+ChocolateNa_df.isna().sum())\n",
    "Proportion"
   ]
  },
  {
   "cell_type": "markdown",
   "metadata": {},
   "source": [
    "# Exploring data and cleaning"
   ]
  },
  {
   "cell_type": "code",
   "execution_count": 14,
   "metadata": {},
   "outputs": [],
   "source": [
    "#Renaming columns so that there are no more spaces or backslashes\n",
    "Chocolate= ChocolateNa_df.rename({\"Company\\xa0\\n(Maker-if known)\":\"Company\",\n",
    "                               'Specific Bean Origin\\nor Bar Name': \"BeanOrigin\",\n",
    "                              \"Review\\nDate\": \"Date\",\n",
    "                              \"Cocoa\\nPercent\": \"CocoaPercent\",\n",
    "                                         \"Company\\nLocation\":\"Location\",\n",
    "                                         \"Bean\\nType\":\"BeanType\",\n",
    "                                         \"Broad Bean\\nOrigin\":\"BroadOrigin\"}, axis='columns')"
   ]
  },
  {
   "cell_type": "code",
   "execution_count": 15,
   "metadata": {},
   "outputs": [
    {
     "data": {
      "text/html": [
       "<div>\n",
       "<style scoped>\n",
       "    .dataframe tbody tr th:only-of-type {\n",
       "        vertical-align: middle;\n",
       "    }\n",
       "\n",
       "    .dataframe tbody tr th {\n",
       "        vertical-align: top;\n",
       "    }\n",
       "\n",
       "    .dataframe thead th {\n",
       "        text-align: right;\n",
       "    }\n",
       "</style>\n",
       "<table border=\"1\" class=\"dataframe\">\n",
       "  <thead>\n",
       "    <tr style=\"text-align: right;\">\n",
       "      <th></th>\n",
       "      <th>Company</th>\n",
       "      <th>BeanOrigin</th>\n",
       "      <th>REF</th>\n",
       "      <th>Date</th>\n",
       "      <th>CocoaPercent</th>\n",
       "      <th>Location</th>\n",
       "      <th>Rating</th>\n",
       "      <th>BeanType</th>\n",
       "      <th>BroadOrigin</th>\n",
       "    </tr>\n",
       "  </thead>\n",
       "  <tbody>\n",
       "    <tr>\n",
       "      <th>0</th>\n",
       "      <td>A. Morin</td>\n",
       "      <td>Agua Grande</td>\n",
       "      <td>1876</td>\n",
       "      <td>2016</td>\n",
       "      <td>63%</td>\n",
       "      <td>France</td>\n",
       "      <td>3.75</td>\n",
       "      <td>NaN</td>\n",
       "      <td>Sao Tome</td>\n",
       "    </tr>\n",
       "    <tr>\n",
       "      <th>1</th>\n",
       "      <td>A. Morin</td>\n",
       "      <td>Kpime</td>\n",
       "      <td>1676</td>\n",
       "      <td>2015</td>\n",
       "      <td>70%</td>\n",
       "      <td>France</td>\n",
       "      <td>2.75</td>\n",
       "      <td>NaN</td>\n",
       "      <td>Togo</td>\n",
       "    </tr>\n",
       "    <tr>\n",
       "      <th>2</th>\n",
       "      <td>A. Morin</td>\n",
       "      <td>Atsane</td>\n",
       "      <td>1676</td>\n",
       "      <td>2015</td>\n",
       "      <td>70%</td>\n",
       "      <td>France</td>\n",
       "      <td>3.00</td>\n",
       "      <td>NaN</td>\n",
       "      <td>Togo</td>\n",
       "    </tr>\n",
       "    <tr>\n",
       "      <th>3</th>\n",
       "      <td>A. Morin</td>\n",
       "      <td>Akata</td>\n",
       "      <td>1680</td>\n",
       "      <td>2015</td>\n",
       "      <td>70%</td>\n",
       "      <td>France</td>\n",
       "      <td>3.50</td>\n",
       "      <td>NaN</td>\n",
       "      <td>Togo</td>\n",
       "    </tr>\n",
       "    <tr>\n",
       "      <th>4</th>\n",
       "      <td>A. Morin</td>\n",
       "      <td>Quilla</td>\n",
       "      <td>1704</td>\n",
       "      <td>2015</td>\n",
       "      <td>70%</td>\n",
       "      <td>France</td>\n",
       "      <td>3.50</td>\n",
       "      <td>NaN</td>\n",
       "      <td>Peru</td>\n",
       "    </tr>\n",
       "  </tbody>\n",
       "</table>\n",
       "</div>"
      ],
      "text/plain": [
       "    Company   BeanOrigin   REF  Date CocoaPercent Location  Rating BeanType  \\\n",
       "0  A. Morin  Agua Grande  1876  2016          63%   France    3.75      NaN   \n",
       "1  A. Morin        Kpime  1676  2015          70%   France    2.75      NaN   \n",
       "2  A. Morin       Atsane  1676  2015          70%   France    3.00      NaN   \n",
       "3  A. Morin        Akata  1680  2015          70%   France    3.50      NaN   \n",
       "4  A. Morin       Quilla  1704  2015          70%   France    3.50      NaN   \n",
       "\n",
       "  BroadOrigin  \n",
       "0    Sao Tome  \n",
       "1        Togo  \n",
       "2        Togo  \n",
       "3        Togo  \n",
       "4        Peru  "
      ]
     },
     "execution_count": 15,
     "metadata": {},
     "output_type": "execute_result"
    }
   ],
   "source": [
    "Chocolate.head()"
   ]
  },
  {
   "cell_type": "code",
   "execution_count": 16,
   "metadata": {},
   "outputs": [
    {
     "data": {
      "text/plain": [
       "Company          object\n",
       "BeanOrigin       object\n",
       "REF               int64\n",
       "Date              int64\n",
       "CocoaPercent     object\n",
       "Location         object\n",
       "Rating          float64\n",
       "BeanType         object\n",
       "BroadOrigin      object\n",
       "dtype: object"
      ]
     },
     "execution_count": 16,
     "metadata": {},
     "output_type": "execute_result"
    }
   ],
   "source": [
    "#value types\n",
    "Chocolate.dtypes"
   ]
  },
  {
   "cell_type": "code",
   "execution_count": 17,
   "metadata": {},
   "outputs": [],
   "source": [
    "# Drop BeanType column because it contains ~ 50% missing values\n",
    "ChocolateClean=Chocolate.drop(columns=['BeanType'])"
   ]
  },
  {
   "cell_type": "code",
   "execution_count": 18,
   "metadata": {},
   "outputs": [
    {
     "data": {
      "text/html": [
       "<div>\n",
       "<style scoped>\n",
       "    .dataframe tbody tr th:only-of-type {\n",
       "        vertical-align: middle;\n",
       "    }\n",
       "\n",
       "    .dataframe tbody tr th {\n",
       "        vertical-align: top;\n",
       "    }\n",
       "\n",
       "    .dataframe thead th {\n",
       "        text-align: right;\n",
       "    }\n",
       "</style>\n",
       "<table border=\"1\" class=\"dataframe\">\n",
       "  <thead>\n",
       "    <tr style=\"text-align: right;\">\n",
       "      <th></th>\n",
       "      <th>Company</th>\n",
       "      <th>BeanOrigin</th>\n",
       "      <th>REF</th>\n",
       "      <th>Date</th>\n",
       "      <th>CocoaPercent</th>\n",
       "      <th>Location</th>\n",
       "      <th>Rating</th>\n",
       "      <th>BroadOrigin</th>\n",
       "    </tr>\n",
       "  </thead>\n",
       "  <tbody>\n",
       "    <tr>\n",
       "      <th>0</th>\n",
       "      <td>A. Morin</td>\n",
       "      <td>Agua Grande</td>\n",
       "      <td>1876</td>\n",
       "      <td>2016</td>\n",
       "      <td>63%</td>\n",
       "      <td>France</td>\n",
       "      <td>3.75</td>\n",
       "      <td>Sao Tome</td>\n",
       "    </tr>\n",
       "    <tr>\n",
       "      <th>1</th>\n",
       "      <td>A. Morin</td>\n",
       "      <td>Kpime</td>\n",
       "      <td>1676</td>\n",
       "      <td>2015</td>\n",
       "      <td>70%</td>\n",
       "      <td>France</td>\n",
       "      <td>2.75</td>\n",
       "      <td>Togo</td>\n",
       "    </tr>\n",
       "    <tr>\n",
       "      <th>2</th>\n",
       "      <td>A. Morin</td>\n",
       "      <td>Atsane</td>\n",
       "      <td>1676</td>\n",
       "      <td>2015</td>\n",
       "      <td>70%</td>\n",
       "      <td>France</td>\n",
       "      <td>3.00</td>\n",
       "      <td>Togo</td>\n",
       "    </tr>\n",
       "    <tr>\n",
       "      <th>3</th>\n",
       "      <td>A. Morin</td>\n",
       "      <td>Akata</td>\n",
       "      <td>1680</td>\n",
       "      <td>2015</td>\n",
       "      <td>70%</td>\n",
       "      <td>France</td>\n",
       "      <td>3.50</td>\n",
       "      <td>Togo</td>\n",
       "    </tr>\n",
       "    <tr>\n",
       "      <th>4</th>\n",
       "      <td>A. Morin</td>\n",
       "      <td>Quilla</td>\n",
       "      <td>1704</td>\n",
       "      <td>2015</td>\n",
       "      <td>70%</td>\n",
       "      <td>France</td>\n",
       "      <td>3.50</td>\n",
       "      <td>Peru</td>\n",
       "    </tr>\n",
       "  </tbody>\n",
       "</table>\n",
       "</div>"
      ],
      "text/plain": [
       "    Company   BeanOrigin   REF  Date CocoaPercent Location  Rating BroadOrigin\n",
       "0  A. Morin  Agua Grande  1876  2016          63%   France    3.75    Sao Tome\n",
       "1  A. Morin        Kpime  1676  2015          70%   France    2.75        Togo\n",
       "2  A. Morin       Atsane  1676  2015          70%   France    3.00        Togo\n",
       "3  A. Morin        Akata  1680  2015          70%   France    3.50        Togo\n",
       "4  A. Morin       Quilla  1704  2015          70%   France    3.50        Peru"
      ]
     },
     "execution_count": 18,
     "metadata": {},
     "output_type": "execute_result"
    }
   ],
   "source": [
    "ChocolateClean.head()"
   ]
  },
  {
   "cell_type": "code",
   "execution_count": 19,
   "metadata": {},
   "outputs": [
    {
     "data": {
      "text/plain": [
       "Company          0\n",
       "BeanOrigin       0\n",
       "REF              0\n",
       "Date             0\n",
       "CocoaPercent     0\n",
       "Location         0\n",
       "Rating           0\n",
       "BroadOrigin     74\n",
       "dtype: int64"
      ]
     },
     "execution_count": 19,
     "metadata": {},
     "output_type": "execute_result"
    }
   ],
   "source": [
    "ChocolateClean.isna().sum()"
   ]
  },
  {
   "cell_type": "code",
   "execution_count": 20,
   "metadata": {},
   "outputs": [
    {
     "data": {
      "text/html": [
       "<div>\n",
       "<style scoped>\n",
       "    .dataframe tbody tr th:only-of-type {\n",
       "        vertical-align: middle;\n",
       "    }\n",
       "\n",
       "    .dataframe tbody tr th {\n",
       "        vertical-align: top;\n",
       "    }\n",
       "\n",
       "    .dataframe thead th {\n",
       "        text-align: right;\n",
       "    }\n",
       "</style>\n",
       "<table border=\"1\" class=\"dataframe\">\n",
       "  <thead>\n",
       "    <tr style=\"text-align: right;\">\n",
       "      <th></th>\n",
       "      <th>Company</th>\n",
       "      <th>BeanOrigin</th>\n",
       "      <th>REF</th>\n",
       "      <th>Date</th>\n",
       "      <th>CocoaPercent</th>\n",
       "      <th>Location</th>\n",
       "      <th>Rating</th>\n",
       "      <th>BroadOrigin</th>\n",
       "    </tr>\n",
       "  </thead>\n",
       "  <tbody>\n",
       "    <tr>\n",
       "      <th>77</th>\n",
       "      <td>Amedei</td>\n",
       "      <td>Nine</td>\n",
       "      <td>111</td>\n",
       "      <td>2007</td>\n",
       "      <td>75%</td>\n",
       "      <td>Italy</td>\n",
       "      <td>4.00</td>\n",
       "      <td>NaN</td>\n",
       "    </tr>\n",
       "    <tr>\n",
       "      <th>85</th>\n",
       "      <td>Amedei</td>\n",
       "      <td>Toscano Black</td>\n",
       "      <td>170</td>\n",
       "      <td>2007</td>\n",
       "      <td>63%</td>\n",
       "      <td>Italy</td>\n",
       "      <td>3.50</td>\n",
       "      <td>NaN</td>\n",
       "    </tr>\n",
       "    <tr>\n",
       "      <th>86</th>\n",
       "      <td>Amedei</td>\n",
       "      <td>Toscano Black</td>\n",
       "      <td>40</td>\n",
       "      <td>2006</td>\n",
       "      <td>70%</td>\n",
       "      <td>Italy</td>\n",
       "      <td>5.00</td>\n",
       "      <td>NaN</td>\n",
       "    </tr>\n",
       "    <tr>\n",
       "      <th>87</th>\n",
       "      <td>Amedei</td>\n",
       "      <td>Toscano Black</td>\n",
       "      <td>75</td>\n",
       "      <td>2006</td>\n",
       "      <td>66%</td>\n",
       "      <td>Italy</td>\n",
       "      <td>4.00</td>\n",
       "      <td>NaN</td>\n",
       "    </tr>\n",
       "    <tr>\n",
       "      <th>144</th>\n",
       "      <td>Bahen &amp; Co.</td>\n",
       "      <td>Houseblend</td>\n",
       "      <td>1474</td>\n",
       "      <td>2015</td>\n",
       "      <td>80%</td>\n",
       "      <td>Australia</td>\n",
       "      <td>3.25</td>\n",
       "      <td>NaN</td>\n",
       "    </tr>\n",
       "  </tbody>\n",
       "</table>\n",
       "</div>"
      ],
      "text/plain": [
       "         Company     BeanOrigin   REF  Date CocoaPercent   Location  Rating  \\\n",
       "77        Amedei           Nine   111  2007          75%      Italy    4.00   \n",
       "85        Amedei  Toscano Black   170  2007          63%      Italy    3.50   \n",
       "86        Amedei  Toscano Black    40  2006          70%      Italy    5.00   \n",
       "87        Amedei  Toscano Black    75  2006          66%      Italy    4.00   \n",
       "144  Bahen & Co.     Houseblend  1474  2015          80%  Australia    3.25   \n",
       "\n",
       "    BroadOrigin  \n",
       "77          NaN  \n",
       "85          NaN  \n",
       "86          NaN  \n",
       "87          NaN  \n",
       "144         NaN  "
      ]
     },
     "execution_count": 20,
     "metadata": {},
     "output_type": "execute_result"
    }
   ],
   "source": [
    "#There are still NA values in the BroadOrigin column\n",
    "ChocolateClean.loc[Chocolate.BroadOrigin.isna()].head()"
   ]
  },
  {
   "cell_type": "code",
   "execution_count": 21,
   "metadata": {},
   "outputs": [
    {
     "data": {
      "text/plain": [
       "(array([  77,   85,   86,   87,  144,  148,  182,  214,  245,  277,  329,\n",
       "         381,  393,  416,  417,  421,  465,  482,  554,  564,  565,  634,\n",
       "         644,  739,  749,  754,  755,  756,  759,  760,  762,  764,  769,\n",
       "         770,  772,  774,  775,  776,  777,  779,  897,  937,  938,  975,\n",
       "        1048, 1072, 1074, 1114, 1115, 1120, 1129, 1175, 1231, 1272, 1366,\n",
       "        1374, 1411, 1414, 1436, 1439, 1440, 1443, 1506, 1526, 1624, 1625,\n",
       "        1683, 1686, 1694, 1766, 1774, 1778, 1780, 1789]),\n",
       " array([7, 7, 7, 7, 7, 7, 7, 7, 7, 7, 7, 7, 7, 7, 7, 7, 7, 7, 7, 7, 7, 7,\n",
       "        7, 7, 7, 7, 7, 7, 7, 7, 7, 7, 7, 7, 7, 7, 7, 7, 7, 7, 7, 7, 7, 7,\n",
       "        7, 7, 7, 7, 7, 7, 7, 7, 7, 7, 7, 7, 7, 7, 7, 7, 7, 7, 7, 7, 7, 7,\n",
       "        7, 7, 7, 7, 7, 7, 7, 7]))"
      ]
     },
     "execution_count": 21,
     "metadata": {},
     "output_type": "execute_result"
    }
   ],
   "source": [
    "#Where are there NA spots\n",
    "np.where(pd.isnull(ChocolateClean))"
   ]
  },
  {
   "cell_type": "code",
   "execution_count": 22,
   "metadata": {},
   "outputs": [],
   "source": [
    "#Drop rows with NA values\n",
    "ChocolateClean2=ChocolateClean.drop([  77,   85,   86,   87,  144,  148,  182,  214,  245,  277,  329,\n",
    "         381,  393,  416,  417,  421,  465,  482,  554,  564,  565,  634,\n",
    "         644,  739,  749,  754,  755,  756,  759,  760,  762,  764,  769,\n",
    "         770,  772,  774,  775,  776,  777,  779,  897,  937,  938,  975,\n",
    "        1048, 1072, 1074, 1114, 1115, 1120, 1129, 1175, 1231, 1272, 1366,\n",
    "        1374, 1411, 1414, 1436, 1439, 1440, 1443, 1506, 1526, 1624, 1625,\n",
    "        1683, 1686, 1694, 1766, 1774, 1778, 1780, 1789])"
   ]
  },
  {
   "cell_type": "code",
   "execution_count": 23,
   "metadata": {},
   "outputs": [
    {
     "data": {
      "text/html": [
       "<div>\n",
       "<style scoped>\n",
       "    .dataframe tbody tr th:only-of-type {\n",
       "        vertical-align: middle;\n",
       "    }\n",
       "\n",
       "    .dataframe tbody tr th {\n",
       "        vertical-align: top;\n",
       "    }\n",
       "\n",
       "    .dataframe thead th {\n",
       "        text-align: right;\n",
       "    }\n",
       "</style>\n",
       "<table border=\"1\" class=\"dataframe\">\n",
       "  <thead>\n",
       "    <tr style=\"text-align: right;\">\n",
       "      <th></th>\n",
       "      <th>Company</th>\n",
       "      <th>BeanOrigin</th>\n",
       "      <th>REF</th>\n",
       "      <th>Date</th>\n",
       "      <th>CocoaPercent</th>\n",
       "      <th>Location</th>\n",
       "      <th>Rating</th>\n",
       "      <th>BroadOrigin</th>\n",
       "    </tr>\n",
       "  </thead>\n",
       "  <tbody>\n",
       "    <tr>\n",
       "      <th>0</th>\n",
       "      <td>A. Morin</td>\n",
       "      <td>Agua Grande</td>\n",
       "      <td>1876</td>\n",
       "      <td>2016</td>\n",
       "      <td>63%</td>\n",
       "      <td>France</td>\n",
       "      <td>3.75</td>\n",
       "      <td>Sao Tome</td>\n",
       "    </tr>\n",
       "    <tr>\n",
       "      <th>1</th>\n",
       "      <td>A. Morin</td>\n",
       "      <td>Kpime</td>\n",
       "      <td>1676</td>\n",
       "      <td>2015</td>\n",
       "      <td>70%</td>\n",
       "      <td>France</td>\n",
       "      <td>2.75</td>\n",
       "      <td>Togo</td>\n",
       "    </tr>\n",
       "    <tr>\n",
       "      <th>2</th>\n",
       "      <td>A. Morin</td>\n",
       "      <td>Atsane</td>\n",
       "      <td>1676</td>\n",
       "      <td>2015</td>\n",
       "      <td>70%</td>\n",
       "      <td>France</td>\n",
       "      <td>3.00</td>\n",
       "      <td>Togo</td>\n",
       "    </tr>\n",
       "    <tr>\n",
       "      <th>3</th>\n",
       "      <td>A. Morin</td>\n",
       "      <td>Akata</td>\n",
       "      <td>1680</td>\n",
       "      <td>2015</td>\n",
       "      <td>70%</td>\n",
       "      <td>France</td>\n",
       "      <td>3.50</td>\n",
       "      <td>Togo</td>\n",
       "    </tr>\n",
       "    <tr>\n",
       "      <th>4</th>\n",
       "      <td>A. Morin</td>\n",
       "      <td>Quilla</td>\n",
       "      <td>1704</td>\n",
       "      <td>2015</td>\n",
       "      <td>70%</td>\n",
       "      <td>France</td>\n",
       "      <td>3.50</td>\n",
       "      <td>Peru</td>\n",
       "    </tr>\n",
       "  </tbody>\n",
       "</table>\n",
       "</div>"
      ],
      "text/plain": [
       "    Company   BeanOrigin   REF  Date CocoaPercent Location  Rating BroadOrigin\n",
       "0  A. Morin  Agua Grande  1876  2016          63%   France    3.75    Sao Tome\n",
       "1  A. Morin        Kpime  1676  2015          70%   France    2.75        Togo\n",
       "2  A. Morin       Atsane  1676  2015          70%   France    3.00        Togo\n",
       "3  A. Morin        Akata  1680  2015          70%   France    3.50        Togo\n",
       "4  A. Morin       Quilla  1704  2015          70%   France    3.50        Peru"
      ]
     },
     "execution_count": 23,
     "metadata": {},
     "output_type": "execute_result"
    }
   ],
   "source": [
    "ChocolateClean2.head()"
   ]
  },
  {
   "cell_type": "code",
   "execution_count": 24,
   "metadata": {},
   "outputs": [
    {
     "data": {
      "text/plain": [
       "Company         0\n",
       "BeanOrigin      0\n",
       "REF             0\n",
       "Date            0\n",
       "CocoaPercent    0\n",
       "Location        0\n",
       "Rating          0\n",
       "BroadOrigin     0\n",
       "dtype: int64"
      ]
     },
     "execution_count": 24,
     "metadata": {},
     "output_type": "execute_result"
    }
   ],
   "source": [
    "#Check for NA values\n",
    "ChocolateClean2.isna().sum()"
   ]
  },
  {
   "cell_type": "code",
   "execution_count": 25,
   "metadata": {},
   "outputs": [
    {
     "data": {
      "text/plain": [
       "(1721, 8)"
      ]
     },
     "execution_count": 25,
     "metadata": {},
     "output_type": "execute_result"
    }
   ],
   "source": [
    "#Dimensions of cleaned Data\n",
    "ChocolateClean2.shape"
   ]
  },
  {
   "cell_type": "code",
   "execution_count": 26,
   "metadata": {},
   "outputs": [
    {
     "data": {
      "text/plain": [
       "(1795, 9)"
      ]
     },
     "execution_count": 26,
     "metadata": {},
     "output_type": "execute_result"
    }
   ],
   "source": [
    "#Dimensions of original data\n",
    "Chocolate_df.shape"
   ]
  },
  {
   "cell_type": "code",
   "execution_count": 27,
   "metadata": {},
   "outputs": [
    {
     "data": {
      "text/plain": [
       "array([3.75, 2.75, 3.  , 3.5 , 4.  , 3.25, 2.5 , 5.  , 1.75, 1.5 , 2.25,\n",
       "       2.  , 1.  ])"
      ]
     },
     "execution_count": 27,
     "metadata": {},
     "output_type": "execute_result"
    }
   ],
   "source": [
    "#Unique ratings\n",
    "ChocolateClean2.Rating.unique()"
   ]
  },
  {
   "cell_type": "code",
   "execution_count": 28,
   "metadata": {},
   "outputs": [
    {
     "data": {
      "text/plain": [
       "array(['France', 'U.S.A.', 'Fiji', 'Ecuador', 'Mexico', 'Switzerland',\n",
       "       'Netherlands', 'Spain', 'Peru', 'Canada', 'Italy', 'Brazil',\n",
       "       'U.K.', 'Australia', 'Wales', 'Belgium', 'Germany', 'Russia',\n",
       "       'Puerto Rico', 'Venezuela', 'Colombia', 'Japan', 'New Zealand',\n",
       "       'Costa Rica', 'South Korea', 'Amsterdam', 'Scotland', 'Martinique',\n",
       "       'Sao Tome', 'Argentina', 'Guatemala', 'South Africa', 'Bolivia',\n",
       "       'St. Lucia', 'Portugal', 'Singapore', 'Denmark', 'Vietnam',\n",
       "       'Grenada', 'Israel', 'India', 'Czech Republic',\n",
       "       'Domincan Republic', 'Finland', 'Madagascar', 'Philippines',\n",
       "       'Sweden', 'Poland', 'Austria', 'Honduras', 'Nicaragua',\n",
       "       'Lithuania', 'Niacragua', 'Chile', 'Ghana', 'Iceland', 'Eucador',\n",
       "       'Hungary', 'Suriname', 'Ireland'], dtype=object)"
      ]
     },
     "execution_count": 28,
     "metadata": {},
     "output_type": "execute_result"
    }
   ],
   "source": [
    "#Looking at unique Location\n",
    "ChocolateClean2.Location.unique()"
   ]
  },
  {
   "cell_type": "code",
   "execution_count": 29,
   "metadata": {
    "collapsed": true,
    "jupyter": {
     "outputs_hidden": true
    }
   },
   "outputs": [
    {
     "data": {
      "text/plain": [
       "array(['Agua Grande', 'Kpime', 'Atsane', 'Akata', 'Quilla', 'Carenero',\n",
       "       'Cuba', 'Sur del Lago', 'Puerto Cabello', 'Pablino', 'Panama',\n",
       "       'Madagascar', 'Brazil', 'Equateur', 'Colombie', 'Birmanie',\n",
       "       'Papua New Guinea', 'Chuao', 'Piura', 'Chanchamayo Province',\n",
       "       'Bolivia', 'Peru', 'Chulucanas, El Platanal', 'Tumbes, Norandino',\n",
       "       'Vanua Levu', 'Vanua Levu, Toto-A', 'Vanua Levu, Ami-Ami-CA',\n",
       "       'Los Rios, Quevedo, Arriba', 'Tabasco',\n",
       "       'Bali (west), Sukrama Family, Melaya area',\n",
       "       'Madagascar, Ambolikapiky P.', 'Monte Alegre, D. Badero',\n",
       "       'Trinite', 'Vietnam', 'Piura, Perou', 'Winak Coop, Napo',\n",
       "       'La Dalia, Matagalpa', 'Tien Giang', 'Makwale Village, Kyela',\n",
       "       'Momotombo', 'Acopagro', 'CIAAB Coop', 'Villa Andina',\n",
       "       'Gruppo Salinas', 'Conacado', 'Morobe', 'Dos Rios', 'Guayas',\n",
       "       'Montanya', 'Bali, Jembrana', 'Cuyagua', 'Ocumare', 'Ghana',\n",
       "       'Ecuador', 'LamasdelChanka, San Martin, Oro Verde coop',\n",
       "       'Bellavista Gran Pajeten, San Martin', 'Belize',\n",
       "       'Dominican Republic', 'Venezuela', 'Piura, Blanco de Criollo',\n",
       "       'Porcelana', 'Jamaica', 'Grenada', 'Trinidad', 'Catongo',\n",
       "       'Monte Alegre, 3 diff. plantations', 'Elvesia', 'Alto Beni',\n",
       "       'Chiapas', 'Trincheras', 'San Juan', 'Kokoa Kamili',\n",
       "       'Hacienda Victoria', 'Costa Esmeraldas', 'Lachua', 'Rugoso',\n",
       "       'La Masica, FHIA', 'Coto Brus, Terciopelo', 'Phantom',\n",
       "       'Matasawalevu', 'Lam Dong', 'Fazenda Camboa', 'Nacional',\n",
       "       'Puerto Quito, heirloom', 'Oko Caribe', 'Maya Mountain', 'Chuno',\n",
       "       'Guatemala', 'Camino Verde', 'Trinidad, Heritage, Limited ed.',\n",
       "       'Colombia, Casa Luker', 'Haiti', 'Costa Rica',\n",
       "       'Ba Ria Vung Tau Province', 'Bali', 'Ocumare, Venezuela', 'Java',\n",
       "       'Brazil Rio Doce', 'Congo', 'Orinoqua Region, Arauca', 'Mababa',\n",
       "       'Tenende, Uwate', 'Cortes', 'Davao', 'Xoconusco',\n",
       "       'San Jose del Tambo', 'Sambirano', 'Bahia', 'Bambamarca, 2015',\n",
       "       'Huallabamba, 2015', 'Maranon Canyon', 'Duarte Province',\n",
       "       'single estate', 'Dominican Republic, Batch 3',\n",
       "       'Asajaya E, NW Borneo, b. #132/4500',\n",
       "       'Serian E., NW Borneo, b. #134/3800', 'Brazil, Batch 20316',\n",
       "       'Dominican Republic, Batch 31616', 'Ecuador, Batch 31516',\n",
       "       'Kakao Kamili, Kilombero Valley', 'Alto Beni, Palos Blanco',\n",
       "       'Oko Caribe, Duarte P.', 'Belize south, low fermentation',\n",
       "       'Belize south', 'Baracoa', 'Cuyagua Village', 'Rio Peripa H.',\n",
       "       'Bali, Sukrama Bros. Farm, Melaya, 62hr C',\n",
       "       'Somia Plantation, Sambirano, 70hr C', 'Maracaibo',\n",
       "       'Indigena Amazonia, Grand Cru, Quizas',\n",
       "       'Carenero S., Barlovento, Grand Cru',\n",
       "       'Porcelana, Premier Cru, Quizas No. 1', 'Java, Grand Cru',\n",
       "       'Ocumare, Premier Cru, Quizas No. 2', 'Nicaragua, American style',\n",
       "       'San Andres, American style', 'San Andres, silk',\n",
       "       'Bali, Singaraja', '2009 Hapa Nibby', 'Sambirano, 2009',\n",
       "       'Ocumare, prototype', 'Puerto Plata', 'Bocas del Toro', 'Ankasa',\n",
       "       'La Red', 'Carenero Superior', 'Matiguas', 'Blue Mountain Region',\n",
       "       'Congo, Grand Cru', \"Akesson's E., Sambirano V.\", 'Zorzal Reserva',\n",
       "       'Selva Maya', 'Kaori', 'Los Colorados, Santo Domingo, Equateur',\n",
       "       'Surfin', 'Maragnam', 'Gabon', 'Cusco, Cacao Cusco',\n",
       "       'Piura Blanco', 'Libanio', 'Madagascar, 100% criollo', 'Juliana',\n",
       "       'Jamaique', 'Ivory Coast', 'Porcelana, Apotequil',\n",
       "       'Porcelana, Tabasco, Marfil de Blanco', 'Xoconusco, cacao Real',\n",
       "       'Porcelana, Venezuela', 'Ocumare, Puerto Cabello',\n",
       "       'Maracaibo, El Rosario', 'Ceylan', 'El Oro, Hacienda de Oro',\n",
       "       'Guasare, Zulia Prov.', \"O'payo, Waslala\", 'Cooproagro',\n",
       "       'Camino Verde, Guayas', 'Chuao, Mantuano blend', 'Elvesia P.',\n",
       "       'Alta Verapaz, 2014', 'Ambolikapiky P.', 'Ambolikapkly P.',\n",
       "       'Somia Plantation', 'Marabel Farms', 'Camino Verde, Balao, Guayas',\n",
       "       'Gran Couva', 'Mindo', 'Ecuador, Bob Bar', 'Puerto Rico', 'Tumbes',\n",
       "       'Dominican Republic, \"Love Bar\"', 'Dominican Republic w/ nibs',\n",
       "       'Patanemo', \"Grand 'Anse\", 'Santo Domingo', 'Tanzania', 'Mexico',\n",
       "       'Rio Caribe', 'Agua Fria; Sucre region',\n",
       "       'Macuare; Miranda; Chloe formula', 'Chuao, Aragua region',\n",
       "       'Hacienda la Trinidad', 'Macondo', 'Perla Negra', 'Arhuacos',\n",
       "       'Sierra Nevada', 'Tumaco', 'Boyaca, Aprocampa Coop, Pauna',\n",
       "       'Arauca', 'Jutiapa, lot 050916D', 'Criollo, Dominican Republic',\n",
       "       'Dominican Republicm, rustic', 'Dominican Republic, rustic',\n",
       "       'Mahali, Kasai', 'Papua', 'Porcelana, Tabasco, La Joya',\n",
       "       'Xoconusco, Chiapas', 'Amazonia', 'Esmeraldas', 'Bolivar',\n",
       "       'Pichincha', 'Grenade', 'Baking', 'Sao Tome',\n",
       "       'Porcelana, Batch 5163', 'Manabi', 'Los Rios',\n",
       "       'Saidor Estate, Madang P.', 'Kulili Estate',\n",
       "       'Antigua, Special Reserve', 'Talamanca, Raul-Kekoldo community',\n",
       "       'Anselmo Paraiso Estate', 'Cordoba', 'Huila', 'Cesar',\n",
       "       'Maya Mtn, Batch 454, Heirloom',\n",
       "       'the lost city, gracias a dias, batch 362', 'Duarte, Batch 360',\n",
       "       'Piaroa, Amazonas, Batch 350', 'San Martin', 'Guaniamo, Amazonas',\n",
       "       'Nicaragua', 'Guaniamo', 'Uganda', 'Maya Mtn', 'Arriba',\n",
       "       'la Amistad', 'Maya Mountain w/ nibs',\n",
       "       'Mekong Delta, early 2014 Harvest', 'Tawau, Oct. 2015 Harvest',\n",
       "       'Peru + nibs', 'Tumbes, \"Zarumilla\"', 'Wild Bolivian',\n",
       "       'Tres Hombres', 'Congo, Gorilla bar', 'Peru, Awagum bar',\n",
       "       'Maranon', 'Chiapas, Lacandon Jungle, Oaxacom Mtn',\n",
       "       'Bolivar, Guaranda', 'Guyave', 'Porcelana, Tabasco', 'Brazilian',\n",
       "       'Guadeloupe', 'Maranon Canyon, Fortunato No. 4', 'Choroni',\n",
       "       'Terreiro Velho P.', 'Terreiro Velho P. w/ sugar crystals',\n",
       "       'Principe', 'Camino Verde P., Balao, Guayas, 2014', 'Moxos',\n",
       "       'Tien Giang, 2015, batch 10-2-16', 'Ecuador, Puristique',\n",
       "       'Ghana Puristique', 'Ecuador Puristique', 'Uba Budo',\n",
       "       'Los Rios, H. Iara', 'Ocumare 61', 'Chuao 100hr', 'Chuao 70hr',\n",
       "       'Porcelana, Tabasco, Mexico', 'Sambirano, Menava P.',\n",
       "       'New Ireland', 'Vanuatu, batch 2410', 'Tanzania, batch a1',\n",
       "       'Bahia, batch a1213', 'Namau Village, N. Taileva P., batch a2812',\n",
       "       'Vanuatu', 'Djual Island', '\"heirloom\", Arriba Nacional',\n",
       "       'Goodman Estate', 'Daintree Estates, N. Queensland',\n",
       "       'Dominican Republic, batch 7', 'Robson Estate',\n",
       "       'Crayfish Bay aka Non Pariel Estate', \"O'Payo\",\n",
       "       'Maya Mtn., Break Bar- Snark',\n",
       "       'Camino Verde P., Balao, Guayas, 2013', 'Buto',\n",
       "       'San Francisco de Macoris, Cibao region',\n",
       "       'Cumboto, farmer Jose Lugo', 'Mantuano, 2012', 'Upala',\n",
       "       'Colombian', 'Elvesia, 2011', 'Los Ujuxtes', 'Las Acacias E.',\n",
       "       'Oscuro, Finca Chimelb', 'Venezuela, batch 122', 'DUO, batch 002',\n",
       "       'Rainforest', 'West Africa', 'Nativo, Varzea', 'Selvagem, Jari',\n",
       "       'Bundibugyo District', 'Sambirano Valley, batch 2477',\n",
       "       'Kilombero, batch 41', 'Bolivian', 'Lanquin Estate',\n",
       "       'Alto Beni, Wild Harvest, Limited Ed.',\n",
       "       'Ecuador, Choc. Garage Exclusive', 'Mantuano', 'Panama, Raven',\n",
       "       'Puerto Cabello, Mantuano', 'Johe',\n",
       "       \"O'ahu, N. Shore, Waialua Estate\", 'Africa', 'Ocumare 77',\n",
       "       'IL100, H. San Jose', 'Morogoro', 'Guasare',\n",
       "       'Canoabo, Hacienda San Jose', 'Chuao, Hacienda San Jose',\n",
       "       'Carupano, H. San Jose', 'Teyuna', 'Ocumare 61, Puertomar',\n",
       "       'Granella', 'Madagared', 'Java, Javablond',\n",
       "       'Ocumare 67, Puertofino', 'Sur del Lago Classificado', 'Apurimac',\n",
       "       'Non Pariel Estate', 'Rio Caribe, Batch 7', 'Colombia, Batch 9',\n",
       "       'Madagascar, Batch 8', 'Rio Dulce, Xoco', 'Chuno, Xoco',\n",
       "       'Rico Rugoso, Xoco', 'Indio Rojo, Xoco',\n",
       "       'Bocas del Toro, Tierra Oscura', 'Nicaliso, Xoco',\n",
       "       'Corazon del Ecuador, Calceta beans', 'Star of Ecuador',\n",
       "       'Star of Peru', 'Maranon, Joya Rara', 'Rio Caribe, Tepui Treasure',\n",
       "       'Taino Secret', 'Carenero, Empyrean Sabor', 'Corona Arriba',\n",
       "       'Maranon, Good & Evil, w/ nibs', 'Alto Beni, Covendo Region',\n",
       "       'San Joaquin', 'Rio Caribe, Cariaco', 'Rio Caribe, Macuro',\n",
       "       'Carenero Superior, Apamate', 'Carenero Superior, Bucare',\n",
       "       'Carenero Superior, Mijao', 'Carenero Superior, Gran Saman',\n",
       "       'Emerald Estate', 'Wampusirpi, batch 007', 'Ben Tre', 'Ham Luong',\n",
       "       'Ba Lai', 'Guapiles', 'Carenero, Guapiles, Ocumare blend',\n",
       "       'Peru, Madagascar', 'Venezuela, Trinidad',\n",
       "       'Monte Alegre, D. Badaro, Raw, Organic', 'Blue Mountain',\n",
       "       'Madagascar, Grand Cru', 'Maracaibo Clasificado',\n",
       "       'Alto Beni, Cru Savage', 'Rio Eni',\n",
       "       'Camino Verde P., Balao, Guayas', 'Kokoa Kamili Coop, Kilombero',\n",
       "       'Canoabo', 'Peru Brutus', 'Norandino, batch 161208', 'San Andres',\n",
       "       'Matagalpa', 'Palo Blanco, Chulucanas', 'Tumbes Coop',\n",
       "       'Palo Blanco w/ panela, Chulucanas', 'Maranon, #228, MR, SC',\n",
       "       'Maranon, #227, LR, MC', 'Maranon, #229, MR, LC',\n",
       "       'Maranon, #230, DR, LC', 'Conacado, #223, MR, SC',\n",
       "       'Conacado, #224, MR, MC',\n",
       "       'San Martin, Bellavista Coop, #226, DR, MC',\n",
       "       'Bellavista Coop, #225, LR, MC, CG Exclusive',\n",
       "       'Markham Valley, #219, LR, MC', 'Markham Valley, #221, DR, MC',\n",
       "       'Sambirano Valley, #216, MR, LC', 'Markham Valley, #220, MR, MC',\n",
       "       'Markham Valley, #222, LR, 0C', 'Ghana, #211, MR, MC',\n",
       "       'Jamaica, #209, DR, SC', 'Conacado, #212, LR, SC',\n",
       "       'Jamaica, #210, DR, MC', 'Sambirano Valley, #214, LR, MC',\n",
       "       'Conacado, #213, DR, -C', 'Sambirano Valley, #215, MR, MC',\n",
       "       'Chuao, #218, MR, MC', 'Chuao, #217, DR, MC',\n",
       "       'Jamaica, #204, DR, SC', 'Jamaica, #206, DR, LC',\n",
       "       'Jamaica, #205, DR, MC', 'Carenero Superior, #203, MR, SC',\n",
       "       'Rugoso, Bad Fermentation', 'La Dalia', 'Barba, Xoco',\n",
       "       'Medagla, Xoco', 'Chuno, triple turned, Xoco', 'Red Mayan, Xoco',\n",
       "       'Chuno, double turned, Xoco', 'Rugoso, Xoco', 'Johe, Xoco',\n",
       "       'Wild Bolivian, Batch 2', 'Coto Brus, Heirloom, Batch 1',\n",
       "       'Signature Blend', \"Kaua'I, Alea Estate +world\", 'Akesson P.',\n",
       "       'ABOCFA Coop', 'Conacado Coop', 'Toledo District, 2015 Harvest',\n",
       "       'Almendra Blanca, batch 1004', 'El Carmen, batch 1003',\n",
       "       'Asochivite, batch 1005', 'Ben Tre, Dong Nai', 'Trinidad & Tobago',\n",
       "       'Lacri Blend', 'Blend', \"O'ahu, N. Shore, Waialua E., Kakoleka\",\n",
       "       'Machu Pichu', 'Chucuri', 'Sambirano, Ambanja',\n",
       "       'Los Rios, Quevedo', 'Sharkey', 'Don Homero- Cerecita Valley',\n",
       "       'South America and Africa', 'Vale do Juliana, w/ nibs',\n",
       "       'Brazil Blend', 'Tome Acu E., Amazon Rainforest',\n",
       "       'Vale do Juliana E., Atlantic Forest',\n",
       "       'Maya Mtn, Moho R., Toledo D., 2015',\n",
       "       'Cota Brus, Terciopelo, 2015', 'Alto Beni, Upper Rio Beni, 2014',\n",
       "       'Wild Beni, Lower Rio Beni, Tranquilidad, 2014',\n",
       "       'Los Rios, Hacienda Limon, Orecao, 2014',\n",
       "       \"Maunawili, O'ahu, Agri Research C., 2014\",\n",
       "       \"Maunawili, O'ahu, Agri Research C., 2015\",\n",
       "       'Los Rios, Hacienda Limon, Orecao, 2015',\n",
       "       'Pinchincha, Mindo, Coop Nueva Esper., 2015',\n",
       "       'Alto Beni, Upper Rio Beni, 2015',\n",
       "       'Wild Beni, Lower Rio Beni, Tranquilidad, 2015',\n",
       "       \"Akesson's Estate\", 'Gran Blanco', 'Mara', 'Hispaniola',\n",
       "       'Hispaniola w/ nibs', 'Ecuador, w/ nibs', 'Pepiniere, single Cote',\n",
       "       'Marcial, single Cote, 2012', 'Island Growers, 2012, 120hr c.',\n",
       "       'Mekong Delta & Dong Nai', 'Somia Plantation, Akesson, 2012',\n",
       "       'Los Rios, H. Iara, 2012', 'Chanchamayo, Pichanadi, 2012, 60hr c.',\n",
       "       'Los Rios, H. Iara, 2012, 120hr c.', 'Conacado, 2012, 120hr c.',\n",
       "       'Los Rios, H. Iara, 96hr c.', 'Island Growers, 120hr c.',\n",
       "       'Island Growers, 96hr c.', 'St. Lucia',\n",
       "       'Bolivia, Bo-nib-ia, w/ nibs',\n",
       "       'Zorzal Reserva w/ Charles Kerchner', 'Ocumare, Cumboto',\n",
       "       'Amazonas', 'Chuao, Venezuela', 'Coopertiva Amazona',\n",
       "       'Sur del Lago, Amiari Meridena, Zulia, 48hr c.',\n",
       "       'Choroni, Finca Torres, 48hr c.', 'Ocumare, H. Cata, 48hr c.',\n",
       "       'Porcelana, Zulia', 'Ocumare, H. Cata, w/ nibs',\n",
       "       'Carenero Superior, Urrutia, Barlovento',\n",
       "       'Coopertiva Amazona w/ nibs',\n",
       "       'Sur del Lago, Amiari Meridena, Zulia, w/ nibs', 'India (south)',\n",
       "       'Conacado, Manifesto', 'Honduras', 'Satipo region, white label',\n",
       "       'black label', 'Maya Mountain, Toledo, Batch 29',\n",
       "       'Elvesia P., Batch 32', 'Trinatario Treasure',\n",
       "       'Rizek Cacao, Cibao Valley, Domin. Rep.',\n",
       "       'Rizek Cacao, Domin. Rep.', 'Sisa 36hr/ W. F. blend prototype',\n",
       "       \"Sisa's Secret/ original micro\", 'Roberto',\n",
       "       'Diego/ original micro', 'Diego 48hr/ W.F. blend prototype',\n",
       "       'Diego 60hr/ W.F. blend prototype', 'Cacao Nacional W.F.',\n",
       "       'La Red, Project Reserva, Guaconejo', 'Dark',\n",
       "       'La Red, Guanconjeco', 'Sambirano Valley', 'ROIG',\n",
       "       'Kafupbo, Petit Bourg, De Borgnes', 'Maranon, Fortunato No. 4',\n",
       "       'Los Rios, Hacienda Limon, Heirloom', 'Bahia, Fazenda Camboa',\n",
       "       'Quito', 'Venzuela', 'Lumas, 2015 Harvest, Batch 6, brown sugar',\n",
       "       'Lumas, 2015 Harvest, Batch 7', 'Tumbes, 2013 Harvest, Batch 8',\n",
       "       'Belize, 2014 Harvest, Batch 9', 'Cuana, 2013', 'Tobago',\n",
       "       'Acarigua, w/ nibs', 'Loma Sotavento', 'Akosombo',\n",
       "       'Porcelana, Pariguan', 'Cuana, 2008', 'Peruvian Amazon', 'Vinces',\n",
       "       'Madagascar, Batch 59/100', 'Vietnam, Batch 50/100',\n",
       "       'Cuba, Batch 59/100', 'Peru, Batch 51/100',\n",
       "       'Ivory Coast, Batch 56/100', 'Sao Tome, Batch 151',\n",
       "       'Bahia, Batch 148', 'Lam Dong, Batch 153', 'Trinidad-Tobago',\n",
       "       'La Masica, Batch 7, FHIA', 'Maya Mtn, Batch 18, Heirloom',\n",
       "       'Liberia', 'Beniamo', 'San Juan Estate, Gran Couva',\n",
       "       'La Red, Guaconejo', 'Maranura', 'Perfect Illusion',\n",
       "       'Bolivia, Wild Thing', 'La Selva', 'Purple Haze',\n",
       "       'The Other One, Grand Cru', 'Wild Thing',\n",
       "       \"Haleiwa, O'ahu; Lonohana E., Kanahiku\", \"Haleiwa E, O'ahu, 2014\",\n",
       "       \"Opaeula Estate, O'ahu, Nene, CG Exclusive\",\n",
       "       \"Opaeula Estate, O'ahu, Ele'ele\", 'Hawaiian Crown, Kona Vanilla',\n",
       "       'Selva', 'Misterio', 'Santander', 'Guadalcanal', 'Choobua, Kona',\n",
       "       'Xocunusco, Chiapas, Pichucalco', 'Hamakua Coast, Kokoleka',\n",
       "       'Criollo, Hawaii', \"Kaua'i\", 'Dominican', 'Chiapas, Triple Cacao',\n",
       "       'Sambirano 2006', 'Mora Mora 2006', 'Davao, Mt. Talamo foothills',\n",
       "       \"O'ahu, N. Shore, Waialua Estate w/ nibs\", 'Colombia',\n",
       "       'Markham Valley', 'Coto Brus', \"Waiahole, O'ahu\", 'Liberia, #174',\n",
       "       'Hamakua, Hawaiian Crown, #176',\n",
       "       'Oahu, Winward, #151, Maunawili district', 'Kolumbia',\n",
       "       'Grand Cru Dominican Republic', 'Grand Cru Ghana',\n",
       "       'Grand Cru Ecuador', 'Ben Tre, Surprise Valley', 'ROIG, 2014',\n",
       "       'Maranon, 2014', 'San Juan Estate, Cherry Blossoms at Night',\n",
       "       'A case of the Xerces Blues, triple roast',\n",
       "       'Tumbes, Dear Mr. Finley, 2014',\n",
       "       'Kakoa Kamili, Both Man & Bird & Beast', 'Le Chocolat Chaud',\n",
       "       'Cusco', 'Tan Phu Dong Island, Heart of Darkness',\n",
       "       'Dak Lak, Batch 2451', 'Tan Phu Dong, Treasure Island', 'Ba Ria',\n",
       "       'Dong Nai', 'Tien Giang, Gao Co-op', 'Matina 1-6, prototype',\n",
       "       'Nigeria', 'Ghana, prototype', 'Pisa',\n",
       "       'French Laundry 20th Anniversary', 'Shake Shack',\n",
       "       'Chuao, Med. Roast', 'Chuao, Dark Roast', 'Chuao, Light Roast',\n",
       "       'Moho River', 'La Red de Guanconejo, N. Highlands coop',\n",
       "       'Ocumare de la Costa', 'Dominican Republic, Coop',\n",
       "       'Malekula P., 2013', 'Somia, 2013', 'Kulili P., 2013',\n",
       "       'Morropon, Norandiono Coop, Piura', 'Nicaragua, w/ inbs',\n",
       "       'El Salvador', 'La Tronca, Matagalpa',\n",
       "       'Fazenda Sempre Firme P., Bahia', 'Akesson Estate',\n",
       "       'South America', 'Chiapas, Mokaya P.',\n",
       "       'Carenero Superior, Concepcion', 'Vila Gracinda', 'Tamarina',\n",
       "       'Los Ancones P.', 'Mangaro P.', 'Maralumi P.', 'San Juan Estate',\n",
       "       'Patanemo, Epoch, Donaldo', 'Matagalpa, Cacao Bisiesto',\n",
       "       'Balinese, Java', 'Acul-du-Nord, 2015', 'Fazenda Camboa, Bahia',\n",
       "       'Bahia, Fazenda Venturosa', 'Toledo District, w/ nibs',\n",
       "       'Toledo District', 'Umoho R., Toledo District, San Felipe',\n",
       "       'Indonesia', 'Mombacho', 'Oscuro', 'Papaua New Guinea',\n",
       "       'Kokoa Kamili, batch 1 SRB', 'Oko Caribe, batch 1 SRB',\n",
       "       'Ambanja, batch 1 SRB', 'Tien Giang, batch 1 SRB',\n",
       "       'Costa Rica, Oscuro', 'Barinas', 'Criollo Blend',\n",
       "       'Manickchand Estate', 'Ambanja, Sambirano Valley', 'Moho Valley',\n",
       "       'La Patriota, cacao Indio, purple label',\n",
       "       'La Dalia, Matagalpa,cacao Bisesto,green label',\n",
       "       'Punta Galera, cacao Nacional, gold label', 'Ghana, 2013',\n",
       "       'Ecuador, 2013', 'Canoabo, 2013', 'Sambirano Valley, 2012',\n",
       "       'Fazenda Leolinda', 'Pangoa', 'Pangoa, w/ nibs', 'Virunga',\n",
       "       'Sang Yum Coop', 'PNG, Devotion', 'PNG, Revolution', 'PNG, Voodoo',\n",
       "       'PNG, Nib Bar', 'Sylvestre, Oialla',\n",
       "       'Dominican Republic prototype', 'Ghana prototype', 'Dark 67',\n",
       "       'Dark 75', 'Carribean-Raw', 'Carribean', 'Nicaraqua', 'Caribe',\n",
       "       'Papua Kerafat', 'Alto Beni, Wild Harvest, Itenez R. 24hr c.',\n",
       "       'D.R. Congo, Cru Virunga', 'Piura, Apotequil, \"Porcelana\" 72hr c.',\n",
       "       'Alto Beni, Wild Harvest, Itenez R., 60hr c.',\n",
       "       \"Hawai'i, Kona Grand Cru E.\", \"Hawai'i, Kona Estate Grown\",\n",
       "       'Sierra Nevada, Tutu Iku', 'Garaua', 'Cumbia', 'Montubia',\n",
       "       'Tangara', 'Ecuador, raw', 'Nube- prototype', 'Raw',\n",
       "       'Silvestre, La Paz, Beni', 'Alto Beni, Palos Blancos',\n",
       "       'Duo- Gran Couva & Camino Verde', 'Kilombero Valley',\n",
       "       \"Lachua, Q'egchi families\", 'Rio Caribe, Paria Penninsula',\n",
       "       'Piura, Choc. Garage Exclusive', 'Madagascar, w/ shell',\n",
       "       'Haut Penja, w/ nibs', 'Baracoa, Cuba', 'Peru, Las Pampas P.',\n",
       "       'Bahia Brazil, Fazenda Sao Pedro',\n",
       "       'Porcelana, Tabasco, Finca La Joya', 'Cabosse',\n",
       "       'Los Rios, Puerto Romero, Equateur',\n",
       "       'Sambirano, Ambanja, Madagascar', 'Fleur de Cacao',\n",
       "       'Porcelana, Tabasco, Limited Ed.', 'Kendem Lembu, Java',\n",
       "       'Ocumare, Puerto Cabello, Venezuela', 'Wampusirpi Region', 'Tenor',\n",
       "       'Nicalizo', 'Namau Village',\n",
       "       'Camino Verde P., Balao, Guayas, \"Fruity\"',\n",
       "       'Camino Verde P., Balao, Guayas, \"Floral\"', 'La Red, 2011',\n",
       "       'Oko Caribe, Duarte Province, 2016 H.', 'Cuyagua, 2013',\n",
       "       'Upala w/ nibs', 'Upala, Batch 18',\n",
       "       'San Martin, Amazonian Highlands', 'Upala, Batch 12',\n",
       "       'Porcelana, S. of Lake Maracaibo', 'Papouasie',\n",
       "       'Sambirano Valley, Le 100%', 'Dominican Republic-Organic',\n",
       "       'Monte Alegre, Diego Badero', 'Claudio Corallo w/ nibs',\n",
       "       'Monte Alegre (Itacare), Brazil', 'Sao Tome & Principe',\n",
       "       'Madagascar, Nosy Be Isle.', 'Java, Indonesie',\n",
       "       'Barlovento, Venezuela', 'Fortissima',\n",
       "       'Caracas, Venezuela and Ghana', 'Djakarta, Java and Ghana',\n",
       "       'Chocoan Rainforest, Teroro Escondido, ESM',\n",
       "       'Crayfish Bay Estate, 2014', \"Akesson's, batch 4411\",\n",
       "       'Patanemo Vil., Carabobo State, Tisano family', 'Guantupi River',\n",
       "       'Akessons Estate, Sambirano, Ambanja', 'Mexico, Lot 28022016',\n",
       "       'Uranga, Lot 22032016', 'Amazon Basin Blend', 'Suchitepequez E.',\n",
       "       'San Martin, Batch 2', 'Chulucanas, Batch 1', 'Tumbes, Batch 2',\n",
       "       'Los Rios, Vinces', 'El Oro',\n",
       "       'Camino Verde P., Balao, 2015 harvest, batch8',\n",
       "       'Toledo District, Maya', 'Maranon, Cajamarca',\n",
       "       'Camino Verde P., 2012, Balao, Guayas', 'La Dorado, light roast',\n",
       "       'Tapanti, light roast', 'Maleku', 'Madagascar w/ nibs',\n",
       "       'Gru Grococo, St. Andrews',\n",
       "       'La Masica, Batch 1, FHIA Research Center',\n",
       "       'Caranero, Choc. Garage Exclusive', 'Tranquilidad, Batch 1',\n",
       "       'Akessons Estate, Sambirano, 2013', 'Hispaniola, 2013',\n",
       "       'Silvestre, Batch 7, 2013',\n",
       "       \"Bachelor's Hall E., St. Thomas Parish\",\n",
       "       'Silvestre, Batch 1, 2011', 'Hispaniola, 2008', 'Sambirano, 2008',\n",
       "       'Rio Caribe Superior, Paria Penninsula',\n",
       "       'Sambirano, Akesson Estate', 'Aragua, Trincheras', 'Malgascio',\n",
       "       'Samana', 'Arawak', 'Midnight', 'Twilight', 'Bahia Superior',\n",
       "       'Rio Arriba', 'Colombian 2008', 'Colombian w/ nibs',\n",
       "       'Colombian Semi Dark', 'Colombian Dark', 'San Juan de Cheni',\n",
       "       'Camahogne', 'Amina', 'Tome Acu', 'Asante', 'Finisterra',\n",
       "       'Las Islas', 'Antilles (Trin/Gren/DR/Ven)', 'Kumasi Sambirano',\n",
       "       \"Jamaica a l'ancienne\", 'Belize, 2013', 'Hilo',\n",
       "       'Hilo, w/ added cocoa butter', 'Tingo Maria', 'Oro', 'Maya Belize',\n",
       "       'Trintade, Sao Tome', 'Bahia, Scavina',\n",
       "       'Porcelana, Colombia, Amazonas', 'Wild Bolivia',\n",
       "       'Kokoa Kamili Coop', 'Esmeraldas, Salazar Farm',\n",
       "       'Somia Plantation, 2012', 'Camino Verde P., Balao, Guayas, 2012',\n",
       "       'Lachua w/ cane sugar', 'Lachua w/ maple sugar, batch 5',\n",
       "       'Oko Caribe, DOR005', 'Guasare, La Sierra de Perija, batch gua001',\n",
       "       'Porcelana, Sorotaima,Machiques,batch pcl001',\n",
       "       'Maya Mtn, Moho R., Toledo D.', 'Australia',\n",
       "       'Chimelb, Lanquin, Alta Verapaz, b-GUA001',\n",
       "       'Papua New Guinea, triple roast, batch 1', 'Maranon, batch 2',\n",
       "       'Chuao, batch 3', 'Ecuador, Batch 1',\n",
       "       'Castillo, Hispaniola, unroasted', 'Solomon Island',\n",
       "       'Solomon Island w/ nibs', 'Bundibugyo',\n",
       "       'Oko Caribe, Duarte P., Collab w Chocosol',\n",
       "       'Sambirano Valley, Black Science, B-60307.0',\n",
       "       'Bahia Black, batch bra50722.1',\n",
       "       'Abstract S. w/ Jamaica nibs,batch abs60323.0',\n",
       "       'Chuno, San Jose de Bocay, Pantasma R.,B.S.',\n",
       "       'Tien Giang, Black S., batch VIT60420.0',\n",
       "       'Camino Verde, Black S., batch cvu6030.0', 'CSB Chama',\n",
       "       \"Espiritu Santo, 'Smoke Monster'\", 'Little Big Man',\n",
       "       'Apurimac, El Quinacho Co-op', 'Sangre Grande P., Trinidad',\n",
       "       'Crazy 88', 'Maracaibo, El Vigia', 'Equator', 'Orinoco',\n",
       "       'Noula Coop', \"O'ahu\", 'Dual Origins, Sambirano, Elvesia',\n",
       "       'Dancing in Your Head, 5 bean blend', 'Cahabon Region',\n",
       "       'Eastern Promises', 'Grenada, Black Science',\n",
       "       'Alto Beni, Wild Bolivian', 'Peruvian',\n",
       "       'Three Amigos(Chuao, Wild Bolivia, D.R.)',\n",
       "       'Elvesia P., Black Science', 'Black Science Blend 1',\n",
       "       'Hawaiian, Big Island', 'AgroCriso Plantation',\n",
       "       'Dominican Republic, lot D82R', 'Ecuador, lot E432314L',\n",
       "       'Madagascar, lot M0403R', 'Malekula Island', 'Bolivar, Arriba',\n",
       "       'Cacao Verapaz', 'Rio Tuma',\n",
       "       'Bahia, Agri-Forestal Plantation, 2010', 'India',\n",
       "       'Ecuador, Midnight Dark', 'Ecuador, Twilght Dark',\n",
       "       'Samar, East Visayas region', 'Sri Lanka', 'Ambolikapiky',\n",
       "       'Winak, Sumaco', 'Ben Tre, Mekong Delta',\n",
       "       'Fazenda Sempre Firme, Bahia', 'Autumn, Primary Harvest, 2012',\n",
       "       'Spring, Secondary Harvest, 2012', 'Cacao Blanco',\n",
       "       'Millot Plantation', 'Ayacucho, \"El Guinacho\"', 'Crudo',\n",
       "       'Chiapas, Lacandon Jungle', 'Paramaribo, batch 20160043-01',\n",
       "       'Chiapan', 'Dark, Stone Ground', 'Peru- Ecuador',\n",
       "       'Chocolatey-beta', 'Fruity-beta', 'Citrus-beta', 'Nutty-beta',\n",
       "       'Concepcion', 'Bayou Blend', 'Aranama', 'Presidio',\n",
       "       'La Bahia, w/ cane juice', 'Capistrano', 'La Bahia, w/ cane sugar',\n",
       "       'San Jose', 'Capistrano*', 'Espada', 'Concepcion*',\n",
       "       'Bahia, Floresta Azul,Good Friends Reserve#3', 'Congo w/ nibs',\n",
       "       'Ghana, Kumasi', 'Venezuela; Barinos, Merida, Tachron',\n",
       "       'Ghana, Panama, Ecuador', 'Piura Select, Cacao Blanc',\n",
       "       'Belize, med roast', 'Roxborough, Tobago',\n",
       "       'Wild Bolivian, Jungle Love', 'Ambanja, Tsara Valley',\n",
       "       'Cedeno, lot 271', 'Palos Blancos', 'Nourish',\n",
       "       'Madagascar, Sassy Bar', 'Tanzania, Party Bar',\n",
       "       'Sur del Lago, Merida', 'Piura, Illanka, Quemazon',\n",
       "       'Loma Sotavento, 2013', 'Otucan, Grand Cru', 'Porcelana, Pedegral',\n",
       "       'Tainori', 'Alpaco', 'Nyangbo', 'Araguani', 'Chuao 2002 P.',\n",
       "       'Manjari', 'Abinao', 'Le Noir Amer',\n",
       "       'Porcelana, Maracaibo, Palmira P. 2006', 'Caraibe', 'Guanaja',\n",
       "       'Gran Couva 2005 P.', 'Porcelana, Maracaibo, Palmira P. 2005',\n",
       "       'Sambirano, Ampamakia 2005, Millot P.', 'Manhattan', 'Napa',\n",
       "       'Palos Blancos + nibs', 'Classic', 'Ben Tre, Mekong Delta, MoCay',\n",
       "       'Los Rios, Rancho Grande 2004/2007',\n",
       "       'Los Rios, Rancho Grande 2007', 'Moho River Valley', 'Cahabon',\n",
       "       'Piura Blanco, Norandino', 'Amazonas w/ nibs', 'Los Llanos',\n",
       "       'Java, Indonesian Black', 'Hacienda Las Trincheras',\n",
       "       'Guasare, Zulia Prov., 2015, batch 124',\n",
       "       'Wild Beniano, 2016, batch 128, Heirloom',\n",
       "       'Ghana, 2013, batch 129', 'Sambirano, batch 170102',\n",
       "       'Hispaniola, batch 170104', 'Papua New Guinea, Batch 2',\n",
       "       'Dominican Republic, Batch D2', 'Madagascar, Batch 2',\n",
       "       'Peru, Batch 1', 'Belize, Batch 2', 'Millot P., Ambanja',\n",
       "       'UNOCACE', 'Tokiala', 'Tranquilidad, Baures',\n",
       "       'Bocas del Toro, Cocabo Co-op',\n",
       "       'Satipo Pangoa region, 16hr conche',\n",
       "       'Satipo Pangoa region, 20hr conche',\n",
       "       'Loma Los Pinos, Yacao region, D.R.', 'Huiwani Coop',\n",
       "       'El Ceibo Coop', 'Kongo, Highlands', 'Kerala State',\n",
       "       'Brazil, Mitzi Blue'], dtype=object)"
      ]
     },
     "execution_count": 29,
     "metadata": {},
     "output_type": "execute_result"
    }
   ],
   "source": [
    "#Looking at unique Bean Origins\n",
    "ChocolateClean2.BeanOrigin.unique()\n"
   ]
  },
  {
   "cell_type": "code",
   "execution_count": 30,
   "metadata": {},
   "outputs": [
    {
     "data": {
      "text/plain": [
       "(981,)"
      ]
     },
     "execution_count": 30,
     "metadata": {},
     "output_type": "execute_result"
    }
   ],
   "source": [
    "#Looking at number of unique Bean Origins\n",
    "ChocolateClean2.BeanOrigin.unique().shape"
   ]
  },
  {
   "cell_type": "code",
   "execution_count": 31,
   "metadata": {},
   "outputs": [
    {
     "data": {
      "text/plain": [
       "array(['63%', '70%', '60%', '80%', '88%', '72%', '55%', '75%', '65%',\n",
       "       '85%', '73%', '64%', '66%', '68%', '50%', '100%', '77%', '90%',\n",
       "       '71%', '83%', '78%', '74%', '76%', '86%', '82%', '69%', '91%',\n",
       "       '42%', '61%', '73.5%', '62%', '67%', '58%', '60.5%', '79%', '81%',\n",
       "       '57%', '72.5%', '56%', '46%', '89%', '84%', '53%', '87%', '99%'],\n",
       "      dtype=object)"
      ]
     },
     "execution_count": 31,
     "metadata": {},
     "output_type": "execute_result"
    }
   ],
   "source": [
    "ChocolateClean2.CocoaPercent.unique()"
   ]
  },
  {
   "cell_type": "code",
   "execution_count": 32,
   "metadata": {},
   "outputs": [
    {
     "data": {
      "text/plain": [
       "Company         409\n",
       "BeanOrigin      981\n",
       "REF             440\n",
       "Date             12\n",
       "CocoaPercent     45\n",
       "Location         60\n",
       "Rating           13\n",
       "BroadOrigin      99\n",
       "dtype: int64"
      ]
     },
     "execution_count": 32,
     "metadata": {},
     "output_type": "execute_result"
    }
   ],
   "source": [
    "#Unique values in each column\n",
    "ChocolateClean2.nunique()"
   ]
  },
  {
   "cell_type": "code",
   "execution_count": 33,
   "metadata": {},
   "outputs": [],
   "source": [
    "#drop BeanOrigin bc there are so many unique values\n",
    "ChocolateClean3= ChocolateClean2.drop(columns=['BeanOrigin'])"
   ]
  },
  {
   "cell_type": "code",
   "execution_count": 34,
   "metadata": {},
   "outputs": [
    {
     "data": {
      "text/html": [
       "<div>\n",
       "<style scoped>\n",
       "    .dataframe tbody tr th:only-of-type {\n",
       "        vertical-align: middle;\n",
       "    }\n",
       "\n",
       "    .dataframe tbody tr th {\n",
       "        vertical-align: top;\n",
       "    }\n",
       "\n",
       "    .dataframe thead th {\n",
       "        text-align: right;\n",
       "    }\n",
       "</style>\n",
       "<table border=\"1\" class=\"dataframe\">\n",
       "  <thead>\n",
       "    <tr style=\"text-align: right;\">\n",
       "      <th></th>\n",
       "      <th>Company</th>\n",
       "      <th>REF</th>\n",
       "      <th>Date</th>\n",
       "      <th>CocoaPercent</th>\n",
       "      <th>Location</th>\n",
       "      <th>Rating</th>\n",
       "      <th>BroadOrigin</th>\n",
       "    </tr>\n",
       "  </thead>\n",
       "  <tbody>\n",
       "    <tr>\n",
       "      <th>0</th>\n",
       "      <td>A. Morin</td>\n",
       "      <td>1876</td>\n",
       "      <td>2016</td>\n",
       "      <td>63%</td>\n",
       "      <td>France</td>\n",
       "      <td>3.75</td>\n",
       "      <td>Sao Tome</td>\n",
       "    </tr>\n",
       "    <tr>\n",
       "      <th>1</th>\n",
       "      <td>A. Morin</td>\n",
       "      <td>1676</td>\n",
       "      <td>2015</td>\n",
       "      <td>70%</td>\n",
       "      <td>France</td>\n",
       "      <td>2.75</td>\n",
       "      <td>Togo</td>\n",
       "    </tr>\n",
       "    <tr>\n",
       "      <th>2</th>\n",
       "      <td>A. Morin</td>\n",
       "      <td>1676</td>\n",
       "      <td>2015</td>\n",
       "      <td>70%</td>\n",
       "      <td>France</td>\n",
       "      <td>3.00</td>\n",
       "      <td>Togo</td>\n",
       "    </tr>\n",
       "    <tr>\n",
       "      <th>3</th>\n",
       "      <td>A. Morin</td>\n",
       "      <td>1680</td>\n",
       "      <td>2015</td>\n",
       "      <td>70%</td>\n",
       "      <td>France</td>\n",
       "      <td>3.50</td>\n",
       "      <td>Togo</td>\n",
       "    </tr>\n",
       "    <tr>\n",
       "      <th>4</th>\n",
       "      <td>A. Morin</td>\n",
       "      <td>1704</td>\n",
       "      <td>2015</td>\n",
       "      <td>70%</td>\n",
       "      <td>France</td>\n",
       "      <td>3.50</td>\n",
       "      <td>Peru</td>\n",
       "    </tr>\n",
       "  </tbody>\n",
       "</table>\n",
       "</div>"
      ],
      "text/plain": [
       "    Company   REF  Date CocoaPercent Location  Rating BroadOrigin\n",
       "0  A. Morin  1876  2016          63%   France    3.75    Sao Tome\n",
       "1  A. Morin  1676  2015          70%   France    2.75        Togo\n",
       "2  A. Morin  1676  2015          70%   France    3.00        Togo\n",
       "3  A. Morin  1680  2015          70%   France    3.50        Togo\n",
       "4  A. Morin  1704  2015          70%   France    3.50        Peru"
      ]
     },
     "execution_count": 34,
     "metadata": {},
     "output_type": "execute_result"
    }
   ],
   "source": [
    "ChocolateClean3.head()"
   ]
  },
  {
   "cell_type": "code",
   "execution_count": 35,
   "metadata": {},
   "outputs": [
    {
     "data": {
      "text/plain": [
       "(1721, 7)"
      ]
     },
     "execution_count": 35,
     "metadata": {},
     "output_type": "execute_result"
    }
   ],
   "source": [
    "ChocolateClean3.shape"
   ]
  },
  {
   "cell_type": "code",
   "execution_count": 36,
   "metadata": {},
   "outputs": [
    {
     "data": {
      "text/plain": [
       "array(['63%', '70%', '60%', '80%', '88%', '72%', '55%', '75%', '65%',\n",
       "       '85%', '73%', '64%', '66%', '68%', '50%', '100%', '77%', '90%',\n",
       "       '71%', '83%', '78%', '74%', '76%', '86%', '82%', '69%', '91%',\n",
       "       '42%', '61%', '73.5%', '62%', '67%', '58%', '60.5%', '79%', '81%',\n",
       "       '57%', '72.5%', '56%', '46%', '89%', '84%', '53%', '87%', '99%'],\n",
       "      dtype=object)"
      ]
     },
     "execution_count": 36,
     "metadata": {},
     "output_type": "execute_result"
    }
   ],
   "source": [
    "#Looking at cocoa percent\n",
    "ChocolateClean3.CocoaPercent.unique()"
   ]
  },
  {
   "cell_type": "code",
   "execution_count": 37,
   "metadata": {},
   "outputs": [],
   "source": [
    "# Cocoa percent is an object. Remove % sign\n",
    "ChocolateClean4= ChocolateClean3.replace(r'%', ' ', regex=True)"
   ]
  },
  {
   "cell_type": "code",
   "execution_count": 38,
   "metadata": {},
   "outputs": [
    {
     "data": {
      "text/plain": [
       "Company          object\n",
       "REF               int64\n",
       "Date              int64\n",
       "CocoaPercent     object\n",
       "Location         object\n",
       "Rating          float64\n",
       "BroadOrigin      object\n",
       "dtype: object"
      ]
     },
     "execution_count": 38,
     "metadata": {},
     "output_type": "execute_result"
    }
   ],
   "source": [
    "#CocoaPercent is still an object\n",
    "ChocolateClean4.dtypes"
   ]
  },
  {
   "cell_type": "code",
   "execution_count": 39,
   "metadata": {},
   "outputs": [],
   "source": [
    "#Change to float\n",
    "Chocolate_cleaned= ChocolateClean4.astype({'CocoaPercent': 'float'})"
   ]
  },
  {
   "cell_type": "code",
   "execution_count": 40,
   "metadata": {},
   "outputs": [
    {
     "data": {
      "text/plain": [
       "array([ 63. ,  70. ,  60. ,  80. ,  88. ,  72. ,  55. ,  75. ,  65. ,\n",
       "        85. ,  73. ,  64. ,  66. ,  68. ,  50. , 100. ,  77. ,  90. ,\n",
       "        71. ,  83. ,  78. ,  74. ,  76. ,  86. ,  82. ,  69. ,  91. ,\n",
       "        42. ,  61. ,  73.5,  62. ,  67. ,  58. ,  60.5,  79. ,  81. ,\n",
       "        57. ,  72.5,  56. ,  46. ,  89. ,  84. ,  53. ,  87. ,  99. ])"
      ]
     },
     "execution_count": 40,
     "metadata": {},
     "output_type": "execute_result"
    }
   ],
   "source": [
    "Chocolate_cleaned.CocoaPercent.unique()"
   ]
  },
  {
   "cell_type": "code",
   "execution_count": 41,
   "metadata": {},
   "outputs": [
    {
     "data": {
      "text/plain": [
       "Company          object\n",
       "REF               int64\n",
       "Date              int64\n",
       "CocoaPercent    float64\n",
       "Location         object\n",
       "Rating          float64\n",
       "BroadOrigin      object\n",
       "dtype: object"
      ]
     },
     "execution_count": 41,
     "metadata": {},
     "output_type": "execute_result"
    }
   ],
   "source": [
    "Chocolate_cleaned.dtypes"
   ]
  },
  {
   "cell_type": "markdown",
   "metadata": {},
   "source": [
    "## 7) Give me a problem statement.\n",
    "Below, write a problem statement. Keep in mind that your task is to tease out relationships in your data and eventually build a predictive model. Your problem statement can be vague, but you should have a goal in mind. Your problem statement should be between one sentence and one paragraph."
   ]
  },
  {
   "cell_type": "markdown",
   "metadata": {},
   "source": [
    "* Can the data regarding cocoa percent, maker, location, date, and broad bean origin be useful in predicting the chocolate tast rating?\n",
    "* GOAL: Predict chocolate taste rating given the information about cocoa content percent, maker, location, and broad bean origin. "
   ]
  },
  {
   "cell_type": "markdown",
   "metadata": {},
   "source": [
    "## 8) What is your _y_-variable?\n",
    "For final project, you will need to perform a statistical model. This means you will have to accurately predict some y-variable for some combination of x-variables. From your problem statement in part 7, what is that y-variable?"
   ]
  },
  {
   "cell_type": "markdown",
   "metadata": {},
   "source": [
    "My y variable is 'Rating'."
   ]
  },
  {
   "cell_type": "code",
   "execution_count": 44,
   "metadata": {
    "slideshow": {
     "slide_type": "slide"
    }
   },
   "outputs": [
    {
     "data": {
      "image/png": "[encoded data removed]",
      "text/plain": [
       "<Figure size 720x720 with 20 Axes>"
      ]
     },
     "metadata": {
      "needs_background": "light"
     },
     "output_type": "display_data"
    }
   ],
   "source": [
    "#Looking at correlation between continuous features\n",
    "import seaborn as sns\n",
    "sns.pairplot(Chocolate_cleaned);"
   ]
  },
  {
   "cell_type": "code",
   "execution_count": 43,
   "metadata": {},
   "outputs": [
    {
     "data": {
      "text/plain": [
       "<matplotlib.axes._subplots.AxesSubplot at 0x1a23598668>"
      ]
     },
     "execution_count": 43,
     "metadata": {},
     "output_type": "execute_result"
    },
    {
     "data": {
      "image/png": "[encoded data removed]",
      "text/plain": [
       "<Figure size 432x288 with 2 Axes>"
      ]
     },
     "metadata": {
      "needs_background": "light"
     },
     "output_type": "display_data"
    }
   ],
   "source": [
    "#Heat map to show correlation between continuous features\n",
    "sns.heatmap(Chocolate_cleaned.corr())"
   ]
  },
  {
   "cell_type": "code",
   "execution_count": 45,
   "metadata": {},
   "outputs": [],
   "source": [
    "#Removed Date because it is directly correlated with REF number\n",
    "UpdatedChocolate=Chocolate_cleaned.drop(columns=['Date'])"
   ]
  },
  {
   "cell_type": "code",
   "execution_count": 46,
   "metadata": {},
   "outputs": [
    {
     "data": {
      "text/html": [
       "<div>\n",
       "<style scoped>\n",
       "    .dataframe tbody tr th:only-of-type {\n",
       "        vertical-align: middle;\n",
       "    }\n",
       "\n",
       "    .dataframe tbody tr th {\n",
       "        vertical-align: top;\n",
       "    }\n",
       "\n",
       "    .dataframe thead th {\n",
       "        text-align: right;\n",
       "    }\n",
       "</style>\n",
       "<table border=\"1\" class=\"dataframe\">\n",
       "  <thead>\n",
       "    <tr style=\"text-align: right;\">\n",
       "      <th></th>\n",
       "      <th>Company</th>\n",
       "      <th>REF</th>\n",
       "      <th>CocoaPercent</th>\n",
       "      <th>Location</th>\n",
       "      <th>Rating</th>\n",
       "      <th>BroadOrigin</th>\n",
       "    </tr>\n",
       "  </thead>\n",
       "  <tbody>\n",
       "    <tr>\n",
       "      <th>0</th>\n",
       "      <td>A. Morin</td>\n",
       "      <td>1876</td>\n",
       "      <td>63.0</td>\n",
       "      <td>France</td>\n",
       "      <td>3.75</td>\n",
       "      <td>Sao Tome</td>\n",
       "    </tr>\n",
       "    <tr>\n",
       "      <th>1</th>\n",
       "      <td>A. Morin</td>\n",
       "      <td>1676</td>\n",
       "      <td>70.0</td>\n",
       "      <td>France</td>\n",
       "      <td>2.75</td>\n",
       "      <td>Togo</td>\n",
       "    </tr>\n",
       "    <tr>\n",
       "      <th>2</th>\n",
       "      <td>A. Morin</td>\n",
       "      <td>1676</td>\n",
       "      <td>70.0</td>\n",
       "      <td>France</td>\n",
       "      <td>3.00</td>\n",
       "      <td>Togo</td>\n",
       "    </tr>\n",
       "    <tr>\n",
       "      <th>3</th>\n",
       "      <td>A. Morin</td>\n",
       "      <td>1680</td>\n",
       "      <td>70.0</td>\n",
       "      <td>France</td>\n",
       "      <td>3.50</td>\n",
       "      <td>Togo</td>\n",
       "    </tr>\n",
       "    <tr>\n",
       "      <th>4</th>\n",
       "      <td>A. Morin</td>\n",
       "      <td>1704</td>\n",
       "      <td>70.0</td>\n",
       "      <td>France</td>\n",
       "      <td>3.50</td>\n",
       "      <td>Peru</td>\n",
       "    </tr>\n",
       "  </tbody>\n",
       "</table>\n",
       "</div>"
      ],
      "text/plain": [
       "    Company   REF  CocoaPercent Location  Rating BroadOrigin\n",
       "0  A. Morin  1876          63.0   France    3.75    Sao Tome\n",
       "1  A. Morin  1676          70.0   France    2.75        Togo\n",
       "2  A. Morin  1676          70.0   France    3.00        Togo\n",
       "3  A. Morin  1680          70.0   France    3.50        Togo\n",
       "4  A. Morin  1704          70.0   France    3.50        Peru"
      ]
     },
     "execution_count": 46,
     "metadata": {},
     "output_type": "execute_result"
    }
   ],
   "source": [
    "UpdatedChocolate.head()"
   ]
  },
  {
   "cell_type": "code",
   "execution_count": 46,
   "metadata": {},
   "outputs": [
    {
     "data": {
      "text/plain": [
       "<matplotlib.axes._subplots.AxesSubplot at 0x1a1cbf6f28>"
      ]
     },
     "execution_count": 46,
     "metadata": {},
     "output_type": "execute_result"
    },
    {
     "data": {
      "image/png": "[encoded data removed]",
      "text/plain": [
       "<Figure size 432x288 with 2 Axes>"
      ]
     },
     "metadata": {
      "needs_background": "light"
     },
     "output_type": "display_data"
    }
   ],
   "source": [
    "#Heatmap showing correlations of remaining continuous variables\n",
    "sns.heatmap(UpdatedChocolate.corr())"
   ]
  },
  {
   "cell_type": "code",
   "execution_count": 47,
   "metadata": {},
   "outputs": [],
   "source": [
    "from sklearn.model_selection import train_test_split\n",
    "from sklearn.preprocessing import OneHotEncoder\n",
    "from sklearn.metrics import accuracy_score\n",
    "from sklearn.preprocessing import LabelEncoder\n",
    "from sklearn.linear_model import LogisticRegression\n",
    "from sklearn.ensemble import RandomForestRegressor, RandomForestClassifier\n",
    "from sklearn.metrics import log_loss\n",
    "from sklearn.compose import ColumnTransformer\n",
    "from sklearn.metrics import classification_report, accuracy_score\n",
    "from sklearn.metrics import mean_squared_error\n",
    "from sklearn.metrics import r2_score"
   ]
  },
  {
   "cell_type": "code",
   "execution_count": 48,
   "metadata": {},
   "outputs": [],
   "source": [
    "#Encode categorical features into ordinal with dummy varriables \n",
    "EncodedChocolate=pd.get_dummies(UpdatedChocolate[['Company', 'Location', 'BroadOrigin']])"
   ]
  },
  {
   "cell_type": "code",
   "execution_count": 49,
   "metadata": {},
   "outputs": [
    {
     "data": {
      "text/html": [
       "<div>\n",
       "<style scoped>\n",
       "    .dataframe tbody tr th:only-of-type {\n",
       "        vertical-align: middle;\n",
       "    }\n",
       "\n",
       "    .dataframe tbody tr th {\n",
       "        vertical-align: top;\n",
       "    }\n",
       "\n",
       "    .dataframe thead th {\n",
       "        text-align: right;\n",
       "    }\n",
       "</style>\n",
       "<table border=\"1\" class=\"dataframe\">\n",
       "  <thead>\n",
       "    <tr style=\"text-align: right;\">\n",
       "      <th></th>\n",
       "      <th>Company_A. Morin</th>\n",
       "      <th>Company_AMMA</th>\n",
       "      <th>Company_Acalli</th>\n",
       "      <th>Company_Adi</th>\n",
       "      <th>Company_Aequare (Gianduja)</th>\n",
       "      <th>Company_Ah Cacao</th>\n",
       "      <th>Company_Akesson's (Pralus)</th>\n",
       "      <th>Company_Alain Ducasse</th>\n",
       "      <th>Company_Alexandre</th>\n",
       "      <th>Company_Altus aka Cao Artisan</th>\n",
       "      <th>...</th>\n",
       "      <th>BroadOrigin_Venez,Africa,Brasil,Peru,Mex</th>\n",
       "      <th>BroadOrigin_Venezuela</th>\n",
       "      <th>BroadOrigin_Venezuela, Carribean</th>\n",
       "      <th>BroadOrigin_Venezuela, Dom. Rep.</th>\n",
       "      <th>BroadOrigin_Venezuela, Ghana</th>\n",
       "      <th>BroadOrigin_Venezuela, Java</th>\n",
       "      <th>BroadOrigin_Venezuela, Trinidad</th>\n",
       "      <th>BroadOrigin_Venezuela/ Ghana</th>\n",
       "      <th>BroadOrigin_Vietnam</th>\n",
       "      <th>BroadOrigin_West Africa</th>\n",
       "    </tr>\n",
       "  </thead>\n",
       "  <tbody>\n",
       "    <tr>\n",
       "      <th>0</th>\n",
       "      <td>1</td>\n",
       "      <td>0</td>\n",
       "      <td>0</td>\n",
       "      <td>0</td>\n",
       "      <td>0</td>\n",
       "      <td>0</td>\n",
       "      <td>0</td>\n",
       "      <td>0</td>\n",
       "      <td>0</td>\n",
       "      <td>0</td>\n",
       "      <td>...</td>\n",
       "      <td>0</td>\n",
       "      <td>0</td>\n",
       "      <td>0</td>\n",
       "      <td>0</td>\n",
       "      <td>0</td>\n",
       "      <td>0</td>\n",
       "      <td>0</td>\n",
       "      <td>0</td>\n",
       "      <td>0</td>\n",
       "      <td>0</td>\n",
       "    </tr>\n",
       "    <tr>\n",
       "      <th>1</th>\n",
       "      <td>1</td>\n",
       "      <td>0</td>\n",
       "      <td>0</td>\n",
       "      <td>0</td>\n",
       "      <td>0</td>\n",
       "      <td>0</td>\n",
       "      <td>0</td>\n",
       "      <td>0</td>\n",
       "      <td>0</td>\n",
       "      <td>0</td>\n",
       "      <td>...</td>\n",
       "      <td>0</td>\n",
       "      <td>0</td>\n",
       "      <td>0</td>\n",
       "      <td>0</td>\n",
       "      <td>0</td>\n",
       "      <td>0</td>\n",
       "      <td>0</td>\n",
       "      <td>0</td>\n",
       "      <td>0</td>\n",
       "      <td>0</td>\n",
       "    </tr>\n",
       "    <tr>\n",
       "      <th>2</th>\n",
       "      <td>1</td>\n",
       "      <td>0</td>\n",
       "      <td>0</td>\n",
       "      <td>0</td>\n",
       "      <td>0</td>\n",
       "      <td>0</td>\n",
       "      <td>0</td>\n",
       "      <td>0</td>\n",
       "      <td>0</td>\n",
       "      <td>0</td>\n",
       "      <td>...</td>\n",
       "      <td>0</td>\n",
       "      <td>0</td>\n",
       "      <td>0</td>\n",
       "      <td>0</td>\n",
       "      <td>0</td>\n",
       "      <td>0</td>\n",
       "      <td>0</td>\n",
       "      <td>0</td>\n",
       "      <td>0</td>\n",
       "      <td>0</td>\n",
       "    </tr>\n",
       "    <tr>\n",
       "      <th>3</th>\n",
       "      <td>1</td>\n",
       "      <td>0</td>\n",
       "      <td>0</td>\n",
       "      <td>0</td>\n",
       "      <td>0</td>\n",
       "      <td>0</td>\n",
       "      <td>0</td>\n",
       "      <td>0</td>\n",
       "      <td>0</td>\n",
       "      <td>0</td>\n",
       "      <td>...</td>\n",
       "      <td>0</td>\n",
       "      <td>0</td>\n",
       "      <td>0</td>\n",
       "      <td>0</td>\n",
       "      <td>0</td>\n",
       "      <td>0</td>\n",
       "      <td>0</td>\n",
       "      <td>0</td>\n",
       "      <td>0</td>\n",
       "      <td>0</td>\n",
       "    </tr>\n",
       "    <tr>\n",
       "      <th>4</th>\n",
       "      <td>1</td>\n",
       "      <td>0</td>\n",
       "      <td>0</td>\n",
       "      <td>0</td>\n",
       "      <td>0</td>\n",
       "      <td>0</td>\n",
       "      <td>0</td>\n",
       "      <td>0</td>\n",
       "      <td>0</td>\n",
       "      <td>0</td>\n",
       "      <td>...</td>\n",
       "      <td>0</td>\n",
       "      <td>0</td>\n",
       "      <td>0</td>\n",
       "      <td>0</td>\n",
       "      <td>0</td>\n",
       "      <td>0</td>\n",
       "      <td>0</td>\n",
       "      <td>0</td>\n",
       "      <td>0</td>\n",
       "      <td>0</td>\n",
       "    </tr>\n",
       "  </tbody>\n",
       "</table>\n",
       "<p>5 rows × 568 columns</p>\n",
       "</div>"
      ],
      "text/plain": [
       "   Company_A. Morin  Company_AMMA  Company_Acalli  Company_Adi  \\\n",
       "0                 1             0               0            0   \n",
       "1                 1             0               0            0   \n",
       "2                 1             0               0            0   \n",
       "3                 1             0               0            0   \n",
       "4                 1             0               0            0   \n",
       "\n",
       "   Company_Aequare (Gianduja)  Company_Ah Cacao  Company_Akesson's (Pralus)  \\\n",
       "0                           0                 0                           0   \n",
       "1                           0                 0                           0   \n",
       "2                           0                 0                           0   \n",
       "3                           0                 0                           0   \n",
       "4                           0                 0                           0   \n",
       "\n",
       "   Company_Alain Ducasse  Company_Alexandre  Company_Altus aka Cao Artisan  \\\n",
       "0                      0                  0                              0   \n",
       "1                      0                  0                              0   \n",
       "2                      0                  0                              0   \n",
       "3                      0                  0                              0   \n",
       "4                      0                  0                              0   \n",
       "\n",
       "   ...  BroadOrigin_Venez,Africa,Brasil,Peru,Mex  BroadOrigin_Venezuela  \\\n",
       "0  ...                                         0                      0   \n",
       "1  ...                                         0                      0   \n",
       "2  ...                                         0                      0   \n",
       "3  ...                                         0                      0   \n",
       "4  ...                                         0                      0   \n",
       "\n",
       "   BroadOrigin_Venezuela, Carribean  BroadOrigin_Venezuela, Dom. Rep.  \\\n",
       "0                                 0                                 0   \n",
       "1                                 0                                 0   \n",
       "2                                 0                                 0   \n",
       "3                                 0                                 0   \n",
       "4                                 0                                 0   \n",
       "\n",
       "   BroadOrigin_Venezuela, Ghana  BroadOrigin_Venezuela, Java  \\\n",
       "0                             0                            0   \n",
       "1                             0                            0   \n",
       "2                             0                            0   \n",
       "3                             0                            0   \n",
       "4                             0                            0   \n",
       "\n",
       "   BroadOrigin_Venezuela, Trinidad  BroadOrigin_Venezuela/ Ghana  \\\n",
       "0                                0                             0   \n",
       "1                                0                             0   \n",
       "2                                0                             0   \n",
       "3                                0                             0   \n",
       "4                                0                             0   \n",
       "\n",
       "   BroadOrigin_Vietnam  BroadOrigin_West Africa  \n",
       "0                    0                        0  \n",
       "1                    0                        0  \n",
       "2                    0                        0  \n",
       "3                    0                        0  \n",
       "4                    0                        0  \n",
       "\n",
       "[5 rows x 568 columns]"
      ]
     },
     "execution_count": 49,
     "metadata": {},
     "output_type": "execute_result"
    }
   ],
   "source": [
    "EncodedChocolate.head()"
   ]
  },
  {
   "cell_type": "code",
   "execution_count": 50,
   "metadata": {},
   "outputs": [],
   "source": [
    "#Join dummy variable dataframe to cleaned dataframe\n",
    "ChocolateTotal=UpdatedChocolate.join(EncodedChocolate) "
   ]
  },
  {
   "cell_type": "code",
   "execution_count": 51,
   "metadata": {},
   "outputs": [
    {
     "data": {
      "text/html": [
       "<div>\n",
       "<style scoped>\n",
       "    .dataframe tbody tr th:only-of-type {\n",
       "        vertical-align: middle;\n",
       "    }\n",
       "\n",
       "    .dataframe tbody tr th {\n",
       "        vertical-align: top;\n",
       "    }\n",
       "\n",
       "    .dataframe thead th {\n",
       "        text-align: right;\n",
       "    }\n",
       "</style>\n",
       "<table border=\"1\" class=\"dataframe\">\n",
       "  <thead>\n",
       "    <tr style=\"text-align: right;\">\n",
       "      <th></th>\n",
       "      <th>Company</th>\n",
       "      <th>REF</th>\n",
       "      <th>CocoaPercent</th>\n",
       "      <th>Location</th>\n",
       "      <th>Rating</th>\n",
       "      <th>BroadOrigin</th>\n",
       "      <th>Company_A. Morin</th>\n",
       "      <th>Company_AMMA</th>\n",
       "      <th>Company_Acalli</th>\n",
       "      <th>Company_Adi</th>\n",
       "      <th>...</th>\n",
       "      <th>BroadOrigin_Venez,Africa,Brasil,Peru,Mex</th>\n",
       "      <th>BroadOrigin_Venezuela</th>\n",
       "      <th>BroadOrigin_Venezuela, Carribean</th>\n",
       "      <th>BroadOrigin_Venezuela, Dom. Rep.</th>\n",
       "      <th>BroadOrigin_Venezuela, Ghana</th>\n",
       "      <th>BroadOrigin_Venezuela, Java</th>\n",
       "      <th>BroadOrigin_Venezuela, Trinidad</th>\n",
       "      <th>BroadOrigin_Venezuela/ Ghana</th>\n",
       "      <th>BroadOrigin_Vietnam</th>\n",
       "      <th>BroadOrigin_West Africa</th>\n",
       "    </tr>\n",
       "  </thead>\n",
       "  <tbody>\n",
       "    <tr>\n",
       "      <th>0</th>\n",
       "      <td>A. Morin</td>\n",
       "      <td>1876</td>\n",
       "      <td>63.0</td>\n",
       "      <td>France</td>\n",
       "      <td>3.75</td>\n",
       "      <td>Sao Tome</td>\n",
       "      <td>1</td>\n",
       "      <td>0</td>\n",
       "      <td>0</td>\n",
       "      <td>0</td>\n",
       "      <td>...</td>\n",
       "      <td>0</td>\n",
       "      <td>0</td>\n",
       "      <td>0</td>\n",
       "      <td>0</td>\n",
       "      <td>0</td>\n",
       "      <td>0</td>\n",
       "      <td>0</td>\n",
       "      <td>0</td>\n",
       "      <td>0</td>\n",
       "      <td>0</td>\n",
       "    </tr>\n",
       "    <tr>\n",
       "      <th>1</th>\n",
       "      <td>A. Morin</td>\n",
       "      <td>1676</td>\n",
       "      <td>70.0</td>\n",
       "      <td>France</td>\n",
       "      <td>2.75</td>\n",
       "      <td>Togo</td>\n",
       "      <td>1</td>\n",
       "      <td>0</td>\n",
       "      <td>0</td>\n",
       "      <td>0</td>\n",
       "      <td>...</td>\n",
       "      <td>0</td>\n",
       "      <td>0</td>\n",
       "      <td>0</td>\n",
       "      <td>0</td>\n",
       "      <td>0</td>\n",
       "      <td>0</td>\n",
       "      <td>0</td>\n",
       "      <td>0</td>\n",
       "      <td>0</td>\n",
       "      <td>0</td>\n",
       "    </tr>\n",
       "    <tr>\n",
       "      <th>2</th>\n",
       "      <td>A. Morin</td>\n",
       "      <td>1676</td>\n",
       "      <td>70.0</td>\n",
       "      <td>France</td>\n",
       "      <td>3.00</td>\n",
       "      <td>Togo</td>\n",
       "      <td>1</td>\n",
       "      <td>0</td>\n",
       "      <td>0</td>\n",
       "      <td>0</td>\n",
       "      <td>...</td>\n",
       "      <td>0</td>\n",
       "      <td>0</td>\n",
       "      <td>0</td>\n",
       "      <td>0</td>\n",
       "      <td>0</td>\n",
       "      <td>0</td>\n",
       "      <td>0</td>\n",
       "      <td>0</td>\n",
       "      <td>0</td>\n",
       "      <td>0</td>\n",
       "    </tr>\n",
       "    <tr>\n",
       "      <th>3</th>\n",
       "      <td>A. Morin</td>\n",
       "      <td>1680</td>\n",
       "      <td>70.0</td>\n",
       "      <td>France</td>\n",
       "      <td>3.50</td>\n",
       "      <td>Togo</td>\n",
       "      <td>1</td>\n",
       "      <td>0</td>\n",
       "      <td>0</td>\n",
       "      <td>0</td>\n",
       "      <td>...</td>\n",
       "      <td>0</td>\n",
       "      <td>0</td>\n",
       "      <td>0</td>\n",
       "      <td>0</td>\n",
       "      <td>0</td>\n",
       "      <td>0</td>\n",
       "      <td>0</td>\n",
       "      <td>0</td>\n",
       "      <td>0</td>\n",
       "      <td>0</td>\n",
       "    </tr>\n",
       "    <tr>\n",
       "      <th>4</th>\n",
       "      <td>A. Morin</td>\n",
       "      <td>1704</td>\n",
       "      <td>70.0</td>\n",
       "      <td>France</td>\n",
       "      <td>3.50</td>\n",
       "      <td>Peru</td>\n",
       "      <td>1</td>\n",
       "      <td>0</td>\n",
       "      <td>0</td>\n",
       "      <td>0</td>\n",
       "      <td>...</td>\n",
       "      <td>0</td>\n",
       "      <td>0</td>\n",
       "      <td>0</td>\n",
       "      <td>0</td>\n",
       "      <td>0</td>\n",
       "      <td>0</td>\n",
       "      <td>0</td>\n",
       "      <td>0</td>\n",
       "      <td>0</td>\n",
       "      <td>0</td>\n",
       "    </tr>\n",
       "  </tbody>\n",
       "</table>\n",
       "<p>5 rows × 574 columns</p>\n",
       "</div>"
      ],
      "text/plain": [
       "    Company   REF  CocoaPercent Location  Rating BroadOrigin  \\\n",
       "0  A. Morin  1876          63.0   France    3.75    Sao Tome   \n",
       "1  A. Morin  1676          70.0   France    2.75        Togo   \n",
       "2  A. Morin  1676          70.0   France    3.00        Togo   \n",
       "3  A. Morin  1680          70.0   France    3.50        Togo   \n",
       "4  A. Morin  1704          70.0   France    3.50        Peru   \n",
       "\n",
       "   Company_A. Morin  Company_AMMA  Company_Acalli  Company_Adi  ...  \\\n",
       "0                 1             0               0            0  ...   \n",
       "1                 1             0               0            0  ...   \n",
       "2                 1             0               0            0  ...   \n",
       "3                 1             0               0            0  ...   \n",
       "4                 1             0               0            0  ...   \n",
       "\n",
       "   BroadOrigin_Venez,Africa,Brasil,Peru,Mex  BroadOrigin_Venezuela  \\\n",
       "0                                         0                      0   \n",
       "1                                         0                      0   \n",
       "2                                         0                      0   \n",
       "3                                         0                      0   \n",
       "4                                         0                      0   \n",
       "\n",
       "   BroadOrigin_Venezuela, Carribean  BroadOrigin_Venezuela, Dom. Rep.  \\\n",
       "0                                 0                                 0   \n",
       "1                                 0                                 0   \n",
       "2                                 0                                 0   \n",
       "3                                 0                                 0   \n",
       "4                                 0                                 0   \n",
       "\n",
       "   BroadOrigin_Venezuela, Ghana  BroadOrigin_Venezuela, Java  \\\n",
       "0                             0                            0   \n",
       "1                             0                            0   \n",
       "2                             0                            0   \n",
       "3                             0                            0   \n",
       "4                             0                            0   \n",
       "\n",
       "   BroadOrigin_Venezuela, Trinidad  BroadOrigin_Venezuela/ Ghana  \\\n",
       "0                                0                             0   \n",
       "1                                0                             0   \n",
       "2                                0                             0   \n",
       "3                                0                             0   \n",
       "4                                0                             0   \n",
       "\n",
       "   BroadOrigin_Vietnam  BroadOrigin_West Africa  \n",
       "0                    0                        0  \n",
       "1                    0                        0  \n",
       "2                    0                        0  \n",
       "3                    0                        0  \n",
       "4                    0                        0  \n",
       "\n",
       "[5 rows x 574 columns]"
      ]
     },
     "execution_count": 51,
     "metadata": {},
     "output_type": "execute_result"
    }
   ],
   "source": [
    "ChocolateTotal.head()"
   ]
  },
  {
   "cell_type": "code",
   "execution_count": 52,
   "metadata": {},
   "outputs": [],
   "source": [
    "#Drop variable columns that were made into dummy varriables\n",
    "ChocolateReady=ChocolateTotal.drop(['Company', 'Location', 'BroadOrigin'], axis=1)"
   ]
  },
  {
   "cell_type": "code",
   "execution_count": 53,
   "metadata": {},
   "outputs": [
    {
     "data": {
      "text/html": [
       "<div>\n",
       "<style scoped>\n",
       "    .dataframe tbody tr th:only-of-type {\n",
       "        vertical-align: middle;\n",
       "    }\n",
       "\n",
       "    .dataframe tbody tr th {\n",
       "        vertical-align: top;\n",
       "    }\n",
       "\n",
       "    .dataframe thead th {\n",
       "        text-align: right;\n",
       "    }\n",
       "</style>\n",
       "<table border=\"1\" class=\"dataframe\">\n",
       "  <thead>\n",
       "    <tr style=\"text-align: right;\">\n",
       "      <th></th>\n",
       "      <th>REF</th>\n",
       "      <th>CocoaPercent</th>\n",
       "      <th>Rating</th>\n",
       "      <th>Company_A. Morin</th>\n",
       "      <th>Company_AMMA</th>\n",
       "      <th>Company_Acalli</th>\n",
       "      <th>Company_Adi</th>\n",
       "      <th>Company_Aequare (Gianduja)</th>\n",
       "      <th>Company_Ah Cacao</th>\n",
       "      <th>Company_Akesson's (Pralus)</th>\n",
       "      <th>...</th>\n",
       "      <th>BroadOrigin_Venez,Africa,Brasil,Peru,Mex</th>\n",
       "      <th>BroadOrigin_Venezuela</th>\n",
       "      <th>BroadOrigin_Venezuela, Carribean</th>\n",
       "      <th>BroadOrigin_Venezuela, Dom. Rep.</th>\n",
       "      <th>BroadOrigin_Venezuela, Ghana</th>\n",
       "      <th>BroadOrigin_Venezuela, Java</th>\n",
       "      <th>BroadOrigin_Venezuela, Trinidad</th>\n",
       "      <th>BroadOrigin_Venezuela/ Ghana</th>\n",
       "      <th>BroadOrigin_Vietnam</th>\n",
       "      <th>BroadOrigin_West Africa</th>\n",
       "    </tr>\n",
       "  </thead>\n",
       "  <tbody>\n",
       "    <tr>\n",
       "      <th>0</th>\n",
       "      <td>1876</td>\n",
       "      <td>63.0</td>\n",
       "      <td>3.75</td>\n",
       "      <td>1</td>\n",
       "      <td>0</td>\n",
       "      <td>0</td>\n",
       "      <td>0</td>\n",
       "      <td>0</td>\n",
       "      <td>0</td>\n",
       "      <td>0</td>\n",
       "      <td>...</td>\n",
       "      <td>0</td>\n",
       "      <td>0</td>\n",
       "      <td>0</td>\n",
       "      <td>0</td>\n",
       "      <td>0</td>\n",
       "      <td>0</td>\n",
       "      <td>0</td>\n",
       "      <td>0</td>\n",
       "      <td>0</td>\n",
       "      <td>0</td>\n",
       "    </tr>\n",
       "    <tr>\n",
       "      <th>1</th>\n",
       "      <td>1676</td>\n",
       "      <td>70.0</td>\n",
       "      <td>2.75</td>\n",
       "      <td>1</td>\n",
       "      <td>0</td>\n",
       "      <td>0</td>\n",
       "      <td>0</td>\n",
       "      <td>0</td>\n",
       "      <td>0</td>\n",
       "      <td>0</td>\n",
       "      <td>...</td>\n",
       "      <td>0</td>\n",
       "      <td>0</td>\n",
       "      <td>0</td>\n",
       "      <td>0</td>\n",
       "      <td>0</td>\n",
       "      <td>0</td>\n",
       "      <td>0</td>\n",
       "      <td>0</td>\n",
       "      <td>0</td>\n",
       "      <td>0</td>\n",
       "    </tr>\n",
       "    <tr>\n",
       "      <th>2</th>\n",
       "      <td>1676</td>\n",
       "      <td>70.0</td>\n",
       "      <td>3.00</td>\n",
       "      <td>1</td>\n",
       "      <td>0</td>\n",
       "      <td>0</td>\n",
       "      <td>0</td>\n",
       "      <td>0</td>\n",
       "      <td>0</td>\n",
       "      <td>0</td>\n",
       "      <td>...</td>\n",
       "      <td>0</td>\n",
       "      <td>0</td>\n",
       "      <td>0</td>\n",
       "      <td>0</td>\n",
       "      <td>0</td>\n",
       "      <td>0</td>\n",
       "      <td>0</td>\n",
       "      <td>0</td>\n",
       "      <td>0</td>\n",
       "      <td>0</td>\n",
       "    </tr>\n",
       "    <tr>\n",
       "      <th>3</th>\n",
       "      <td>1680</td>\n",
       "      <td>70.0</td>\n",
       "      <td>3.50</td>\n",
       "      <td>1</td>\n",
       "      <td>0</td>\n",
       "      <td>0</td>\n",
       "      <td>0</td>\n",
       "      <td>0</td>\n",
       "      <td>0</td>\n",
       "      <td>0</td>\n",
       "      <td>...</td>\n",
       "      <td>0</td>\n",
       "      <td>0</td>\n",
       "      <td>0</td>\n",
       "      <td>0</td>\n",
       "      <td>0</td>\n",
       "      <td>0</td>\n",
       "      <td>0</td>\n",
       "      <td>0</td>\n",
       "      <td>0</td>\n",
       "      <td>0</td>\n",
       "    </tr>\n",
       "    <tr>\n",
       "      <th>4</th>\n",
       "      <td>1704</td>\n",
       "      <td>70.0</td>\n",
       "      <td>3.50</td>\n",
       "      <td>1</td>\n",
       "      <td>0</td>\n",
       "      <td>0</td>\n",
       "      <td>0</td>\n",
       "      <td>0</td>\n",
       "      <td>0</td>\n",
       "      <td>0</td>\n",
       "      <td>...</td>\n",
       "      <td>0</td>\n",
       "      <td>0</td>\n",
       "      <td>0</td>\n",
       "      <td>0</td>\n",
       "      <td>0</td>\n",
       "      <td>0</td>\n",
       "      <td>0</td>\n",
       "      <td>0</td>\n",
       "      <td>0</td>\n",
       "      <td>0</td>\n",
       "    </tr>\n",
       "  </tbody>\n",
       "</table>\n",
       "<p>5 rows × 571 columns</p>\n",
       "</div>"
      ],
      "text/plain": [
       "    REF  CocoaPercent  Rating  Company_A. Morin  Company_AMMA  Company_Acalli  \\\n",
       "0  1876          63.0    3.75                 1             0               0   \n",
       "1  1676          70.0    2.75                 1             0               0   \n",
       "2  1676          70.0    3.00                 1             0               0   \n",
       "3  1680          70.0    3.50                 1             0               0   \n",
       "4  1704          70.0    3.50                 1             0               0   \n",
       "\n",
       "   Company_Adi  Company_Aequare (Gianduja)  Company_Ah Cacao  \\\n",
       "0            0                           0                 0   \n",
       "1            0                           0                 0   \n",
       "2            0                           0                 0   \n",
       "3            0                           0                 0   \n",
       "4            0                           0                 0   \n",
       "\n",
       "   Company_Akesson's (Pralus)  ...  BroadOrigin_Venez,Africa,Brasil,Peru,Mex  \\\n",
       "0                           0  ...                                         0   \n",
       "1                           0  ...                                         0   \n",
       "2                           0  ...                                         0   \n",
       "3                           0  ...                                         0   \n",
       "4                           0  ...                                         0   \n",
       "\n",
       "   BroadOrigin_Venezuela  BroadOrigin_Venezuela, Carribean  \\\n",
       "0                      0                                 0   \n",
       "1                      0                                 0   \n",
       "2                      0                                 0   \n",
       "3                      0                                 0   \n",
       "4                      0                                 0   \n",
       "\n",
       "   BroadOrigin_Venezuela, Dom. Rep.  BroadOrigin_Venezuela, Ghana  \\\n",
       "0                                 0                             0   \n",
       "1                                 0                             0   \n",
       "2                                 0                             0   \n",
       "3                                 0                             0   \n",
       "4                                 0                             0   \n",
       "\n",
       "   BroadOrigin_Venezuela, Java  BroadOrigin_Venezuela, Trinidad  \\\n",
       "0                            0                                0   \n",
       "1                            0                                0   \n",
       "2                            0                                0   \n",
       "3                            0                                0   \n",
       "4                            0                                0   \n",
       "\n",
       "   BroadOrigin_Venezuela/ Ghana  BroadOrigin_Vietnam  BroadOrigin_West Africa  \n",
       "0                             0                    0                        0  \n",
       "1                             0                    0                        0  \n",
       "2                             0                    0                        0  \n",
       "3                             0                    0                        0  \n",
       "4                             0                    0                        0  \n",
       "\n",
       "[5 rows x 571 columns]"
      ]
     },
     "execution_count": 53,
     "metadata": {},
     "output_type": "execute_result"
    }
   ],
   "source": [
    "ChocolateReady.head()"
   ]
  },
  {
   "cell_type": "code",
   "execution_count": 54,
   "metadata": {},
   "outputs": [
    {
     "data": {
      "text/plain": [
       "REF                                           int64\n",
       "CocoaPercent                                float64\n",
       "Rating                                      float64\n",
       "Company_A. Morin                              uint8\n",
       "Company_AMMA                                  uint8\n",
       "Company_Acalli                                uint8\n",
       "Company_Adi                                   uint8\n",
       "Company_Aequare (Gianduja)                    uint8\n",
       "Company_Ah Cacao                              uint8\n",
       "Company_Akesson's (Pralus)                    uint8\n",
       "Company_Alain Ducasse                         uint8\n",
       "Company_Alexandre                             uint8\n",
       "Company_Altus aka Cao Artisan                 uint8\n",
       "Company_Amano                                 uint8\n",
       "Company_Amatller (Simon Coll)                 uint8\n",
       "Company_Amazona                               uint8\n",
       "Company_Ambrosia                              uint8\n",
       "Company_Amedei                                uint8\n",
       "Company_Anahata                               uint8\n",
       "Company_Animas                                uint8\n",
       "Company_Ara                                   uint8\n",
       "Company_Arete                                 uint8\n",
       "Company_Artisan du Chocolat                   uint8\n",
       "Company_Artisan du Chocolat (Casa Luker)      uint8\n",
       "Company_Askinosie                             uint8\n",
       "Company_Bahen & Co.                           uint8\n",
       "Company_Bakau                                 uint8\n",
       "Company_Bar Au Chocolat                       uint8\n",
       "Company_Baravelli's                           uint8\n",
       "Company_Batch                                 uint8\n",
       "                                             ...   \n",
       "BroadOrigin_Solomon Islands                   uint8\n",
       "BroadOrigin_South America                     uint8\n",
       "BroadOrigin_South America, Africa             uint8\n",
       "BroadOrigin_Sri Lanka                         uint8\n",
       "BroadOrigin_St. Lucia                         uint8\n",
       "BroadOrigin_Suriname                          uint8\n",
       "BroadOrigin_Tanzania                          uint8\n",
       "BroadOrigin_Tobago                            uint8\n",
       "BroadOrigin_Togo                              uint8\n",
       "BroadOrigin_Trinidad                          uint8\n",
       "BroadOrigin_Trinidad, Ecuador                 uint8\n",
       "BroadOrigin_Trinidad, Tobago                  uint8\n",
       "BroadOrigin_Trinidad-Tobago                   uint8\n",
       "BroadOrigin_Uganda                            uint8\n",
       "BroadOrigin_Vanuatu                           uint8\n",
       "BroadOrigin_Ven, Bolivia, D.R.                uint8\n",
       "BroadOrigin_Ven, Trinidad, Ecuador            uint8\n",
       "BroadOrigin_Ven., Indonesia, Ecuad.           uint8\n",
       "BroadOrigin_Ven., Trinidad, Mad.              uint8\n",
       "BroadOrigin_Ven.,Ecu.,Peru,Nic.               uint8\n",
       "BroadOrigin_Venez,Africa,Brasil,Peru,Mex      uint8\n",
       "BroadOrigin_Venezuela                         uint8\n",
       "BroadOrigin_Venezuela, Carribean              uint8\n",
       "BroadOrigin_Venezuela, Dom. Rep.              uint8\n",
       "BroadOrigin_Venezuela, Ghana                  uint8\n",
       "BroadOrigin_Venezuela, Java                   uint8\n",
       "BroadOrigin_Venezuela, Trinidad               uint8\n",
       "BroadOrigin_Venezuela/ Ghana                  uint8\n",
       "BroadOrigin_Vietnam                           uint8\n",
       "BroadOrigin_West Africa                       uint8\n",
       "Length: 571, dtype: object"
      ]
     },
     "execution_count": 54,
     "metadata": {},
     "output_type": "execute_result"
    }
   ],
   "source": [
    "ChocolateReady.dtypes"
   ]
  },
  {
   "cell_type": "code",
   "execution_count": 55,
   "metadata": {},
   "outputs": [
    {
     "data": {
      "text/plain": [
       "(1721,)"
      ]
     },
     "execution_count": 55,
     "metadata": {},
     "output_type": "execute_result"
    }
   ],
   "source": [
    "#Predicting rating; set Rating values to target\n",
    "target= ChocolateReady.Rating\n",
    "target.shape"
   ]
  },
  {
   "cell_type": "code",
   "execution_count": 56,
   "metadata": {},
   "outputs": [
    {
     "data": {
      "text/plain": [
       "(1721, 570)"
      ]
     },
     "execution_count": 56,
     "metadata": {},
     "output_type": "execute_result"
    }
   ],
   "source": [
    "# All other features are the predictors\n",
    "Chocolate_predictors= ChocolateReady.drop([\"Rating\"], axis=1)\n",
    "Chocolate_predictors.shape"
   ]
  },
  {
   "cell_type": "code",
   "execution_count": 57,
   "metadata": {},
   "outputs": [],
   "source": [
    "#Split dataset into training and testing\n",
    "X_train, X_test, y_train, y_test = train_test_split(Chocolate_predictors, target, test_size=0.33)"
   ]
  },
  {
   "cell_type": "code",
   "execution_count": 58,
   "metadata": {},
   "outputs": [
    {
     "name": "stderr",
     "output_type": "stream",
     "text": [
      "//anaconda3/lib/python3.7/site-packages/sklearn/ensemble/forest.py:245: FutureWarning: The default value of n_estimators will change from 10 in version 0.20 to 100 in 0.22.\n",
      "  \"10 in version 0.20 to 100 in 0.22.\", FutureWarning)\n"
     ]
    },
    {
     "data": {
      "text/plain": [
       "RandomForestRegressor(bootstrap=True, criterion='mse', max_depth=None,\n",
       "                      max_features='auto', max_leaf_nodes=None,\n",
       "                      min_impurity_decrease=0.0, min_impurity_split=None,\n",
       "                      min_samples_leaf=1, min_samples_split=2,\n",
       "                      min_weight_fraction_leaf=0.0, n_estimators=10,\n",
       "                      n_jobs=None, oob_score=False, random_state=None,\n",
       "                      verbose=0, warm_start=False)"
      ]
     },
     "execution_count": 58,
     "metadata": {},
     "output_type": "execute_result"
    }
   ],
   "source": [
    "#Make random forest regressor model. \n",
    "rf = RandomForestRegressor()\n",
    "\n",
    "# Fit \n",
    "rf.fit(X_train, y_train)"
   ]
  },
  {
   "cell_type": "code",
   "execution_count": 59,
   "metadata": {},
   "outputs": [
    {
     "data": {
      "text/plain": [
       "0.18709154138274867"
      ]
     },
     "execution_count": 59,
     "metadata": {},
     "output_type": "execute_result"
    }
   ],
   "source": [
    "# Predict\n",
    "y_predicted = rf.predict(X_test)\n",
    "\n",
    "# Test\n",
    "mean_squared_error(y_test, y_predicted)"
   ]
  },
  {
   "cell_type": "code",
   "execution_count": 60,
   "metadata": {},
   "outputs": [
    {
     "name": "stdout",
     "output_type": "stream",
     "text": [
      "Accuracy: 88.59 %.\n"
     ]
    }
   ],
   "source": [
    "# Calculate mean absolute percentage error (MAPE)\n",
    "errors = abs(y_predicted - y_test)\n",
    "\n",
    "mape = 100 * (errors / y_test)\n",
    "\n",
    "# Calculate and display accuracy\n",
    "accuracy = 100 - np.mean(mape)\n",
    "print('Accuracy:', round(accuracy, 2), '%.')"
   ]
  },
  {
   "cell_type": "code",
   "execution_count": 61,
   "metadata": {},
   "outputs": [
    {
     "name": "stderr",
     "output_type": "stream",
     "text": [
      "//anaconda3/lib/python3.7/site-packages/sklearn/model_selection/_search.py:813: DeprecationWarning: The default of the `iid` parameter will change from True to False in version 0.22 and will be removed in 0.24. This will change numeric results when test-set sizes are unequal.\n",
      "  DeprecationWarning)\n"
     ]
    },
    {
     "data": {
      "text/plain": [
       "GridSearchCV(cv=KFold(n_splits=5, random_state=42, shuffle=True),\n",
       "             error_score='raise-deprecating',\n",
       "             estimator=RandomForestRegressor(bootstrap=True, criterion='mse',\n",
       "                                             max_depth=None,\n",
       "                                             max_features='auto',\n",
       "                                             max_leaf_nodes=None,\n",
       "                                             min_impurity_decrease=0.0,\n",
       "                                             min_impurity_split=None,\n",
       "                                             min_samples_leaf=1,\n",
       "                                             min_samples_split=2,\n",
       "                                             min_weight_fraction_leaf=0.0,\n",
       "                                             n_estimators='warn', n_jobs=None,\n",
       "                                             oob_score=False, random_state=None,\n",
       "                                             verbose=0, warm_start=False),\n",
       "             iid='warn', n_jobs=-1,\n",
       "             param_grid={'max_depth': range(1, 20),\n",
       "                         'n_estimators': range(1, 20)},\n",
       "             pre_dispatch='2*n_jobs', refit=True, return_train_score=False,\n",
       "             scoring=None, verbose=0)"
      ]
     },
     "execution_count": 61,
     "metadata": {},
     "output_type": "execute_result"
    }
   ],
   "source": [
    "#Can we improve the model using Grid Search?\n",
    "from sklearn.model_selection import KFold, GridSearchCV\n",
    "from sklearn.ensemble import RandomForestRegressor\n",
    "from sklearn.preprocessing import StandardScaler\n",
    "# Create kf instance \n",
    "kf = KFold(n_splits=5, shuffle=True, random_state=42)\n",
    "# Create  \n",
    "rf = RandomForestRegressor()\n",
    "# Create grid search instance \n",
    "gscv = GridSearchCV(rf, \n",
    "                    {\"max_depth\": range(1, 20),\"n_estimators\": range(1, 20)}, \n",
    "                    cv=kf, n_jobs=-1)\n",
    "\n",
    "gscv.fit(X_train, y_train)\n"
   ]
  },
  {
   "cell_type": "code",
   "execution_count": 62,
   "metadata": {},
   "outputs": [
    {
     "data": {
      "text/plain": [
       "{'max_depth': 19, 'n_estimators': 15}"
      ]
     },
     "execution_count": 62,
     "metadata": {},
     "output_type": "execute_result"
    }
   ],
   "source": [
    "gscv.best_params_"
   ]
  },
  {
   "cell_type": "code",
   "execution_count": null,
   "metadata": {},
   "outputs": [],
   "source": []
  },
  {
   "cell_type": "code",
   "execution_count": 63,
   "metadata": {},
   "outputs": [
    {
     "data": {
      "text/plain": [
       "0.1796127027317282"
      ]
     },
     "execution_count": 63,
     "metadata": {},
     "output_type": "execute_result"
    }
   ],
   "source": [
    "rf = RandomForestRegressor(max_depth=19,n_estimators= 15 )\n",
    "rf.fit(X_train, y_train)\n",
    "\n",
    "# Predict\n",
    "y_predicted2 = rf.predict(X_test)\n",
    "\n",
    "# Test\n",
    "mean_squared_error(y_test, y_predicted2)"
   ]
  },
  {
   "cell_type": "code",
   "execution_count": 64,
   "metadata": {},
   "outputs": [
    {
     "name": "stdout",
     "output_type": "stream",
     "text": [
      "Accuracy: 88.64 %.\n"
     ]
    }
   ],
   "source": [
    "# Calculate mean absolute percentage error (MAPE)\n",
    "errors2 = abs(y_predicted2 - y_test)\n",
    "\n",
    "mape = 100 * (errors2 / y_test)\n",
    "\n",
    "# Calculate and display accuracy\n",
    "accuracy = 100 - np.mean(mape)\n",
    "print('Accuracy:', round(accuracy, 2), '%.')"
   ]
  },
  {
   "cell_type": "code",
   "execution_count": 65,
   "metadata": {},
   "outputs": [],
   "source": [
    "# Get numerical feature importances\n",
    "importances = rf.feature_importances_\n",
    "\n",
    "feature_importance= pd.DataFrame(importances, index= X_train.columns)"
   ]
  },
  {
   "cell_type": "code",
   "execution_count": null,
   "metadata": {},
   "outputs": [],
   "source": []
  },
  {
   "cell_type": "code",
   "execution_count": 66,
   "metadata": {},
   "outputs": [
    {
     "data": {
      "text/html": [
       "<div>\n",
       "<style scoped>\n",
       "    .dataframe tbody tr th:only-of-type {\n",
       "        vertical-align: middle;\n",
       "    }\n",
       "\n",
       "    .dataframe tbody tr th {\n",
       "        vertical-align: top;\n",
       "    }\n",
       "\n",
       "    .dataframe thead th {\n",
       "        text-align: right;\n",
       "    }\n",
       "</style>\n",
       "<table border=\"1\" class=\"dataframe\">\n",
       "  <thead>\n",
       "    <tr style=\"text-align: right;\">\n",
       "      <th></th>\n",
       "      <th>0</th>\n",
       "    </tr>\n",
       "  </thead>\n",
       "  <tbody>\n",
       "    <tr>\n",
       "      <th>REF</th>\n",
       "      <td>0.173346</td>\n",
       "    </tr>\n",
       "    <tr>\n",
       "      <th>CocoaPercent</th>\n",
       "      <td>0.141078</td>\n",
       "    </tr>\n",
       "    <tr>\n",
       "      <th>Company_A. Morin</th>\n",
       "      <td>0.001846</td>\n",
       "    </tr>\n",
       "    <tr>\n",
       "      <th>Company_AMMA</th>\n",
       "      <td>0.006851</td>\n",
       "    </tr>\n",
       "    <tr>\n",
       "      <th>Company_Acalli</th>\n",
       "      <td>0.000353</td>\n",
       "    </tr>\n",
       "    <tr>\n",
       "      <th>Company_Adi</th>\n",
       "      <td>0.000231</td>\n",
       "    </tr>\n",
       "    <tr>\n",
       "      <th>Company_Aequare (Gianduja)</th>\n",
       "      <td>0.000060</td>\n",
       "    </tr>\n",
       "    <tr>\n",
       "      <th>Company_Ah Cacao</th>\n",
       "      <td>0.000000</td>\n",
       "    </tr>\n",
       "    <tr>\n",
       "      <th>Company_Akesson's (Pralus)</th>\n",
       "      <td>0.000071</td>\n",
       "    </tr>\n",
       "    <tr>\n",
       "      <th>Company_Alain Ducasse</th>\n",
       "      <td>0.000083</td>\n",
       "    </tr>\n",
       "    <tr>\n",
       "      <th>Company_Alexandre</th>\n",
       "      <td>0.000000</td>\n",
       "    </tr>\n",
       "    <tr>\n",
       "      <th>Company_Altus aka Cao Artisan</th>\n",
       "      <td>0.002748</td>\n",
       "    </tr>\n",
       "    <tr>\n",
       "      <th>Company_Amano</th>\n",
       "      <td>0.003834</td>\n",
       "    </tr>\n",
       "    <tr>\n",
       "      <th>Company_Amatller (Simon Coll)</th>\n",
       "      <td>0.000000</td>\n",
       "    </tr>\n",
       "    <tr>\n",
       "      <th>Company_Amazona</th>\n",
       "      <td>0.000169</td>\n",
       "    </tr>\n",
       "    <tr>\n",
       "      <th>Company_Ambrosia</th>\n",
       "      <td>0.000000</td>\n",
       "    </tr>\n",
       "    <tr>\n",
       "      <th>Company_Amedei</th>\n",
       "      <td>0.000327</td>\n",
       "    </tr>\n",
       "    <tr>\n",
       "      <th>Company_Anahata</th>\n",
       "      <td>0.000000</td>\n",
       "    </tr>\n",
       "    <tr>\n",
       "      <th>Company_Animas</th>\n",
       "      <td>0.000000</td>\n",
       "    </tr>\n",
       "    <tr>\n",
       "      <th>Company_Ara</th>\n",
       "      <td>0.001685</td>\n",
       "    </tr>\n",
       "  </tbody>\n",
       "</table>\n",
       "</div>"
      ],
      "text/plain": [
       "                                      0\n",
       "REF                            0.173346\n",
       "CocoaPercent                   0.141078\n",
       "Company_A. Morin               0.001846\n",
       "Company_AMMA                   0.006851\n",
       "Company_Acalli                 0.000353\n",
       "Company_Adi                    0.000231\n",
       "Company_Aequare (Gianduja)     0.000060\n",
       "Company_Ah Cacao               0.000000\n",
       "Company_Akesson's (Pralus)     0.000071\n",
       "Company_Alain Ducasse          0.000083\n",
       "Company_Alexandre              0.000000\n",
       "Company_Altus aka Cao Artisan  0.002748\n",
       "Company_Amano                  0.003834\n",
       "Company_Amatller (Simon Coll)  0.000000\n",
       "Company_Amazona                0.000169\n",
       "Company_Ambrosia               0.000000\n",
       "Company_Amedei                 0.000327\n",
       "Company_Anahata                0.000000\n",
       "Company_Animas                 0.000000\n",
       "Company_Ara                    0.001685"
      ]
     },
     "execution_count": 66,
     "metadata": {},
     "output_type": "execute_result"
    }
   ],
   "source": [
    "feature_importance.head(20)"
   ]
  },
  {
   "cell_type": "code",
   "execution_count": 67,
   "metadata": {},
   "outputs": [],
   "source": [
    "import matplotlib.pyplot as plt"
   ]
  },
  {
   "cell_type": "code",
   "execution_count": 68,
   "metadata": {},
   "outputs": [
    {
     "data": {
      "image/png": "[encoded data removed]",
      "text/plain": [
       "<Figure size 432x288 with 1 Axes>"
      ]
     },
     "metadata": {
      "needs_background": "light"
     },
     "output_type": "display_data"
    }
   ],
   "source": [
    "#Visualize the actual and predicted values in relation to Cocoa percent\n",
    "true_data = pd.DataFrame(data = {'CocoaPercent':X_test['CocoaPercent'] , 'actual': y_test})\n",
    "predictions_data= pd.DataFrame(data={'CocoaPercent':X_test['CocoaPercent'], 'predicted':y_predicted})\n",
    "plt.plot(true_data['CocoaPercent'], true_data['actual'], 'bo', label = 'actual')\n",
    "plt.plot(predictions_data['CocoaPercent'], predictions_data['predicted'], 'ro', label='prediction')\n",
    "plt.legend()\n",
    "# Graph labels\n",
    "plt.xlabel('CocoaPercent'); \n",
    "plt.ylabel('Rating)'); \n",
    "plt.title('Actual and Predicted Values');"
   ]
  },
  {
   "cell_type": "code",
   "execution_count": null,
   "metadata": {},
   "outputs": [],
   "source": []
  },
  {
   "cell_type": "code",
   "execution_count": 80,
   "metadata": {},
   "outputs": [
    {
     "data": {
      "text/plain": [
       "array([1.  , 1.5 , 2.  , 2.25, 2.5 , 2.75, 3.  , 3.25, 3.5 , 3.75, 4.  ,\n",
       "       5.  ])"
      ]
     },
     "execution_count": 80,
     "metadata": {},
     "output_type": "execute_result"
    }
   ],
   "source": [
    "np.unique(y_test)"
   ]
  },
  {
   "cell_type": "code",
   "execution_count": 69,
   "metadata": {},
   "outputs": [
    {
     "data": {
      "text/plain": [
       "array([1.75      , 1.8       , 1.825     , 1.925     , 2.        ,\n",
       "       2.05      , 2.275     , 2.45      , 2.475     , 2.4875    ,\n",
       "       2.53958333, 2.55      , 2.575     , 2.6       , 2.65      ,\n",
       "       2.675     , 2.7       , 2.70208333, 2.725     , 2.75      ,\n",
       "       2.775     , 2.78333333, 2.8       , 2.80625   , 2.825     ,\n",
       "       2.84375   , 2.85      , 2.875     , 2.9       , 2.91388889,\n",
       "       2.925     , 2.95      , 2.9625    , 2.96875   , 2.975     ,\n",
       "       3.        , 3.025     , 3.05      , 3.06875   , 3.075     ,\n",
       "       3.08333333, 3.09375   , 3.1       , 3.12375   , 3.125     ,\n",
       "       3.1375    , 3.14166667, 3.15      , 3.1625    , 3.16875   ,\n",
       "       3.175     , 3.18333333, 3.2       , 3.205     , 3.225     ,\n",
       "       3.23333333, 3.25      , 3.25416667, 3.26875   , 3.275     ,\n",
       "       3.3       , 3.31875   , 3.325     , 3.33      , 3.33625   ,\n",
       "       3.34375   , 3.35      , 3.3625    , 3.375     , 3.38      ,\n",
       "       3.38125   , 3.3875    , 3.39375   , 3.4       , 3.425     ,\n",
       "       3.43125   , 3.43333333, 3.4375    , 3.44375   , 3.45      ,\n",
       "       3.475     , 3.49375   , 3.5       , 3.50833333, 3.5125    ,\n",
       "       3.525     , 3.55      , 3.575     , 3.59583333, 3.6       ,\n",
       "       3.625     , 3.65      , 3.675     , 3.725     , 3.75      ,\n",
       "       3.775     , 3.85      , 3.85916667])"
      ]
     },
     "execution_count": 69,
     "metadata": {},
     "output_type": "execute_result"
    }
   ],
   "source": [
    "#Look at predicted values\n",
    "np.unique(y_predicted)"
   ]
  },
  {
   "cell_type": "markdown",
   "metadata": {},
   "source": [
    "The above models are treating the rating value as a float when in reality, the rating has discrete options and is not a continous value. \n",
    "Instead use a classifier and change the ratings to non continuous data."
   ]
  },
  {
   "cell_type": "code",
   "execution_count": null,
   "metadata": {},
   "outputs": [],
   "source": []
  },
  {
   "cell_type": "code",
   "execution_count": null,
   "metadata": {},
   "outputs": [],
   "source": []
  },
  {
   "cell_type": "code",
   "execution_count": null,
   "metadata": {},
   "outputs": [],
   "source": []
  },
  {
   "cell_type": "code",
   "execution_count": 70,
   "metadata": {},
   "outputs": [],
   "source": [
    "#Use label encoder to change the chocolate ratings (target) into \n",
    "#categorical features\n",
    "label_encoder = LabelEncoder()\n",
    "label_encoder = label_encoder.fit(target)\n",
    "label_encoded_y = label_encoder.transform(target)"
   ]
  },
  {
   "cell_type": "code",
   "execution_count": 71,
   "metadata": {},
   "outputs": [
    {
     "data": {
      "text/plain": [
       "array([ 0,  1,  2,  3,  4,  5,  6,  7,  8,  9, 10, 11, 12])"
      ]
     },
     "execution_count": 71,
     "metadata": {},
     "output_type": "execute_result"
    }
   ],
   "source": [
    "np.unique(label_encoded_y)"
   ]
  },
  {
   "cell_type": "code",
   "execution_count": 72,
   "metadata": {},
   "outputs": [
    {
     "data": {
      "text/plain": [
       "dtype('int64')"
      ]
     },
     "execution_count": 72,
     "metadata": {},
     "output_type": "execute_result"
    }
   ],
   "source": [
    "#Target y values are no longer continuous\n",
    "label_encoded_y.dtype"
   ]
  },
  {
   "cell_type": "code",
   "execution_count": 73,
   "metadata": {},
   "outputs": [],
   "source": [
    "Xclass_train, Xclass_test, yclass_train, yclass_test = train_test_split(Chocolate_predictors, label_encoded_y, test_size=0.33)"
   ]
  },
  {
   "cell_type": "code",
   "execution_count": 74,
   "metadata": {},
   "outputs": [
    {
     "name": "stderr",
     "output_type": "stream",
     "text": [
      "//anaconda3/lib/python3.7/site-packages/sklearn/ensemble/forest.py:245: FutureWarning: The default value of n_estimators will change from 10 in version 0.20 to 100 in 0.22.\n",
      "  \"10 in version 0.20 to 100 in 0.22.\", FutureWarning)\n"
     ]
    },
    {
     "data": {
      "text/plain": [
       "RandomForestClassifier(bootstrap=True, class_weight=None, criterion='gini',\n",
       "                       max_depth=None, max_features='auto', max_leaf_nodes=None,\n",
       "                       min_impurity_decrease=0.0, min_impurity_split=None,\n",
       "                       min_samples_leaf=1, min_samples_split=2,\n",
       "                       min_weight_fraction_leaf=0.0, n_estimators=10,\n",
       "                       n_jobs=None, oob_score=False, random_state=None,\n",
       "                       verbose=0, warm_start=False)"
      ]
     },
     "execution_count": 74,
     "metadata": {},
     "output_type": "execute_result"
    }
   ],
   "source": [
    "#Instantiate the random forest classifier model\n",
    "rfc = RandomForestClassifier()\n",
    "\n",
    "# Fit \n",
    "rfc.fit(Xclass_train, yclass_train)"
   ]
  },
  {
   "cell_type": "code",
   "execution_count": 75,
   "metadata": {},
   "outputs": [
    {
     "data": {
      "text/plain": [
       "5.389084507042254"
      ]
     },
     "execution_count": 75,
     "metadata": {},
     "output_type": "execute_result"
    }
   ],
   "source": [
    "yclass_predicted = rfc.predict(Xclass_test)\n",
    "\n",
    "mean_squared_error(yclass_test, yclass_predicted)"
   ]
  },
  {
   "cell_type": "code",
   "execution_count": 76,
   "metadata": {},
   "outputs": [
    {
     "name": "stdout",
     "output_type": "stream",
     "text": [
      "0.9531656548135299\n",
      "0.20774647887323944\n"
     ]
    }
   ],
   "source": [
    "print(rfc.score(Xclass_train, yclass_train))\n",
    "print(rfc.score(Xclass_test, yclass_test))"
   ]
  },
  {
   "cell_type": "code",
   "execution_count": 77,
   "metadata": {},
   "outputs": [
    {
     "data": {
      "image/png": "[encoded data removed]",
      "text/plain": [
       "<Figure size 432x288 with 1 Axes>"
      ]
     },
     "metadata": {
      "needs_background": "light"
     },
     "output_type": "display_data"
    }
   ],
   "source": [
    "true_data = pd.DataFrame(data = {'CocoaPercent':Xclass_test['CocoaPercent'] , 'actual': yclass_test})\n",
    "predictions_data= pd.DataFrame(data={'CocoaPercent':Xclass_test['CocoaPercent'], 'predicted':yclass_predicted})\n",
    "plt.plot(true_data['CocoaPercent'], true_data['actual'], 'bo', label = 'actual')\n",
    "plt.plot(predictions_data['CocoaPercent'], predictions_data['predicted'], 'ro', label='prediction')\n",
    "plt.legend()\n",
    "# Graph labels\n",
    "plt.xlabel('CocoaPercent'); \n",
    "plt.ylabel('Rating)'); \n",
    "plt.title('Actual and Predicted Values');"
   ]
  },
  {
   "cell_type": "markdown",
   "metadata": {},
   "source": [
    "This classifier does not accurately predict the chocolate rating well. I have tried to motify it a bit but I cannot create a classifier with a higher accuracy. The Random forrest regressor is relatively good at getting close to the rating. One model that I think could be good would take the Random Forrest Regressor prediction and then round that value to the nearest possible score (i.e the regressor output value of 3.43 turns into 3.5, 3.575 turns into 3.5"
   ]
  },
  {
   "cell_type": "code",
   "execution_count": null,
   "metadata": {},
   "outputs": [],
   "source": []
  }
 ],
 "metadata": {
  "kernelspec": {
   "display_name": "Python 3",
   "language": "python",
   "name": "python3"
  },
  "language_info": {
   "codemirror_mode": {
    "name": "ipython",
    "version": 3
   },
   "file_extension": ".py",
   "mimetype": "text/x-python",
   "name": "python",
   "nbconvert_exporter": "python",
   "pygments_lexer": "ipython3",
   "version": "3.7.3"
  }
 },
 "nbformat": 4,
 "nbformat_minor": 4
}
