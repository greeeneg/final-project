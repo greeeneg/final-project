{
 "cells": [
  {
   "cell_type": "markdown",
   "metadata": {},
   "source": [
    "# Final Project Template "
   ]
  },
  {
   "cell_type": "markdown",
   "metadata": {},
   "source": [
    "## 1) Get your data\n",
    "You may use any data set(s) you like, so long as they meet these criteria:\n",
    "\n",
    "* Your data must be publically available for free.\n",
    "* Your data should be interesting to _you_. You want your final project to be something you're proud of.\n",
    "* Your data should be \"big enough\":\n",
    "    - It should have at least 1,000 rows.\n",
    "    - It should have enough of columns to be interesting.\n",
    "    - If you have questions, contact a member of the instructional team."
   ]
  },
  {
   "cell_type": "markdown",
   "metadata": {},
   "source": [
    "## 2) Provide a link to your data\n",
    "Your data is required to be free and open to anyone.\n",
    "As such, you should have a URL which anyone can use to download your data:"
   ]
  },
  {
   "cell_type": "code",
   "execution_count": null,
   "metadata": {},
   "outputs": [],
   "source": [
    "# Enter link here."
   ]
  },
  {
   "cell_type": "markdown",
   "metadata": {},
   "source": [
    "## 3) Import your data\n",
    "In the space below, import your data.\n",
    "If your data span multiple files, read them all in.\n",
    "If applicable, merge or append them as needed."
   ]
  },
  {
   "cell_type": "code",
   "execution_count": 1,
   "metadata": {},
   "outputs": [],
   "source": [
    "import pandas as pd"
   ]
  },
  {
   "cell_type": "code",
   "execution_count": 3,
   "metadata": {},
   "outputs": [],
   "source": [
    "rna_file='barreslab_rnaseq.xlsx'\n",
    "barreslab_rnaseq = pd.read_excel(rna_file)"
   ]
  },
  {
   "cell_type": "markdown",
   "metadata": {},
   "source": [
    "## 4) Show me the head of your data."
   ]
  },
  {
   "cell_type": "code",
   "execution_count": 4,
   "metadata": {},
   "outputs": [
    {
     "data": {
      "text/html": [
       "<div>\n",
       "<style scoped>\n",
       "    .dataframe tbody tr th:only-of-type {\n",
       "        vertical-align: middle;\n",
       "    }\n",
       "\n",
       "    .dataframe tbody tr th {\n",
       "        vertical-align: top;\n",
       "    }\n",
       "\n",
       "    .dataframe thead th {\n",
       "        text-align: right;\n",
       "    }\n",
       "</style>\n",
       "<table border=\"1\" class=\"dataframe\">\n",
       "  <thead>\n",
       "    <tr style=\"text-align: right;\">\n",
       "      <th></th>\n",
       "      <th>Gene symbol</th>\n",
       "      <th>Description</th>\n",
       "      <th>Astrocytes</th>\n",
       "      <th>Neuron</th>\n",
       "      <th>Oligodendrocyte Precursor Cell</th>\n",
       "      <th>Newly Formed Oligodendrocyte</th>\n",
       "      <th>Myelinating Oligodendrocytes</th>\n",
       "      <th>Microglia</th>\n",
       "      <th>Endothelial Cells</th>\n",
       "    </tr>\n",
       "  </thead>\n",
       "  <tbody>\n",
       "    <tr>\n",
       "      <th>0</th>\n",
       "      <td>0610005C13Rik</td>\n",
       "      <td>NaN</td>\n",
       "      <td>0.150958</td>\n",
       "      <td>0.100000</td>\n",
       "      <td>0.100000</td>\n",
       "      <td>0.100000</td>\n",
       "      <td>0.100000</td>\n",
       "      <td>0.100000</td>\n",
       "      <td>0.100000</td>\n",
       "    </tr>\n",
       "    <tr>\n",
       "      <th>1</th>\n",
       "      <td>0610007C21Rik</td>\n",
       "      <td>NaN</td>\n",
       "      <td>44.891260</td>\n",
       "      <td>34.185493</td>\n",
       "      <td>71.221305</td>\n",
       "      <td>57.985927</td>\n",
       "      <td>54.006096</td>\n",
       "      <td>89.145033</td>\n",
       "      <td>63.561109</td>\n",
       "    </tr>\n",
       "    <tr>\n",
       "      <th>2</th>\n",
       "      <td>0610007L01Rik</td>\n",
       "      <td>NaN</td>\n",
       "      <td>11.015039</td>\n",
       "      <td>12.028727</td>\n",
       "      <td>13.285948</td>\n",
       "      <td>14.058364</td>\n",
       "      <td>6.139475</td>\n",
       "      <td>18.462419</td>\n",
       "      <td>13.521373</td>\n",
       "    </tr>\n",
       "    <tr>\n",
       "      <th>3</th>\n",
       "      <td>0610007P08Rik</td>\n",
       "      <td>NaN</td>\n",
       "      <td>7.144110</td>\n",
       "      <td>2.020408</td>\n",
       "      <td>4.477075</td>\n",
       "      <td>6.024325</td>\n",
       "      <td>2.863602</td>\n",
       "      <td>0.446900</td>\n",
       "      <td>4.693264</td>\n",
       "    </tr>\n",
       "    <tr>\n",
       "      <th>4</th>\n",
       "      <td>0610007P14Rik</td>\n",
       "      <td>Probable ergosterol biosynthetic protein 28</td>\n",
       "      <td>48.935666</td>\n",
       "      <td>24.370482</td>\n",
       "      <td>54.475390</td>\n",
       "      <td>68.246914</td>\n",
       "      <td>64.284606</td>\n",
       "      <td>10.411304</td>\n",
       "      <td>10.569456</td>\n",
       "    </tr>\n",
       "  </tbody>\n",
       "</table>\n",
       "</div>"
      ],
      "text/plain": [
       "     Gene symbol                                  Description  Astrocytes  \\\n",
       "0  0610005C13Rik                                          NaN    0.150958   \n",
       "1  0610007C21Rik                                          NaN   44.891260   \n",
       "2  0610007L01Rik                                          NaN   11.015039   \n",
       "3  0610007P08Rik                                          NaN    7.144110   \n",
       "4  0610007P14Rik  Probable ergosterol biosynthetic protein 28   48.935666   \n",
       "\n",
       "      Neuron  Oligodendrocyte Precursor Cell  Newly Formed Oligodendrocyte  \\\n",
       "0   0.100000                        0.100000                      0.100000   \n",
       "1  34.185493                       71.221305                     57.985927   \n",
       "2  12.028727                       13.285948                     14.058364   \n",
       "3   2.020408                        4.477075                      6.024325   \n",
       "4  24.370482                       54.475390                     68.246914   \n",
       "\n",
       "   Myelinating Oligodendrocytes  Microglia  Endothelial Cells  \n",
       "0                      0.100000   0.100000           0.100000  \n",
       "1                     54.006096  89.145033          63.561109  \n",
       "2                      6.139475  18.462419          13.521373  \n",
       "3                      2.863602   0.446900           4.693264  \n",
       "4                     64.284606  10.411304          10.569456  "
      ]
     },
     "execution_count": 4,
     "metadata": {},
     "output_type": "execute_result"
    }
   ],
   "source": [
    "barreslab_rnaseq.head()"
   ]
  },
  {
   "cell_type": "markdown",
   "metadata": {},
   "source": [
    "## 5) Show me the shape of your data"
   ]
  },
  {
   "cell_type": "code",
   "execution_count": 5,
   "metadata": {},
   "outputs": [
    {
     "ename": "TypeError",
     "evalue": "'tuple' object is not callable",
     "output_type": "error",
     "traceback": [
      "\u001b[0;31m---------------------------------------------------------------------------\u001b[0m",
      "\u001b[0;31mTypeError\u001b[0m                                 Traceback (most recent call last)",
      "\u001b[0;32m<ipython-input-5-8bf67d68975f>\u001b[0m in \u001b[0;36m<module>\u001b[0;34m\u001b[0m\n\u001b[0;32m----> 1\u001b[0;31m \u001b[0mbarreslab_rnaseq\u001b[0m\u001b[0;34m.\u001b[0m\u001b[0mshape\u001b[0m\u001b[0;34m(\u001b[0m\u001b[0;34m)\u001b[0m\u001b[0;34m\u001b[0m\u001b[0;34m\u001b[0m\u001b[0m\n\u001b[0m",
      "\u001b[0;31mTypeError\u001b[0m: 'tuple' object is not callable"
     ]
    }
   ],
   "source": [
    "barreslab_rnaseq.shape()"
   ]
  },
  {
   "cell_type": "markdown",
   "metadata": {},
   "source": [
    "## 6) Show me the proportion of missing observations for each column of your data"
   ]
  },
  {
   "cell_type": "code",
   "execution_count": null,
   "metadata": {},
   "outputs": [],
   "source": []
  },
  {
   "cell_type": "markdown",
   "metadata": {},
   "source": [
    "## 7) Give me a problem statement.\n",
    "Below, write a problem statement. Keep in mind that your task is to tease out relationships in your data and eventually build a predictive model. Your problem statement can be vague, but you should have a goal in mind. Your problem statement should be between one sentence and one paragraph."
   ]
  },
  {
   "cell_type": "markdown",
   "metadata": {},
   "source": [
    "## 8) What is your _y_-variable?\n",
    "For final project, you will need to perform a statistical model. This means you will have to accurately predict some y-variable for some combination of x-variables. From your problem statement in part 7, what is that y-variable?"
   ]
  }
 ],
 "metadata": {
  "kernelspec": {
   "display_name": "Python 3",
   "language": "python",
   "name": "python3"
  },
  "language_info": {
   "codemirror_mode": {
    "name": "ipython",
    "version": 3
   },
   "file_extension": ".py",
   "mimetype": "text/x-python",
   "name": "python",
   "nbconvert_exporter": "python",
   "pygments_lexer": "ipython3",
   "version": "3.7.3"
  }
 },
 "nbformat": 4,
 "nbformat_minor": 4
}
